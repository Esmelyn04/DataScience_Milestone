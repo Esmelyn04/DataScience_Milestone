{
 "cells": [
  {
   "cell_type": "markdown",
   "id": "4b051093-9ed2-41f1-8b2b-12b7a221971c",
   "metadata": {},
   "source": [
    "# Milestone #1"
   ]
  },
  {
   "cell_type": "code",
   "execution_count": 2,
   "id": "14d08987-491e-49ee-a7e6-8afe250494c5",
   "metadata": {},
   "outputs": [],
   "source": [
    "import matplotlib\n",
    "import matplotlib.pyplot as plt\n",
    "import pandas as pd\n",
    "import seaborn as sns\n",
    "%matplotlib inline"
   ]
  },
  {
   "cell_type": "code",
   "execution_count": 3,
   "id": "5e2b1084-b28e-486c-8ec8-f0383f51262f",
   "metadata": {},
   "outputs": [],
   "source": [
    "df = pd.read_csv(\"2022_Yellow_Taxi_Trip_Data_20240305.csv\")"
   ]
  },
  {
   "cell_type": "code",
   "execution_count": 4,
   "id": "6d547efb-6081-4a00-aac6-35ba3355b654",
   "metadata": {},
   "outputs": [
    {
     "data": {
      "text/html": [
       "<div>\n",
       "<style scoped>\n",
       "    .dataframe tbody tr th:only-of-type {\n",
       "        vertical-align: middle;\n",
       "    }\n",
       "\n",
       "    .dataframe tbody tr th {\n",
       "        vertical-align: top;\n",
       "    }\n",
       "\n",
       "    .dataframe thead th {\n",
       "        text-align: right;\n",
       "    }\n",
       "</style>\n",
       "<table border=\"1\" class=\"dataframe\">\n",
       "  <thead>\n",
       "    <tr style=\"text-align: right;\">\n",
       "      <th></th>\n",
       "      <th>tpep_pickup_datetime</th>\n",
       "      <th>passenger_count</th>\n",
       "      <th>trip_distance</th>\n",
       "      <th>payment_type</th>\n",
       "      <th>fare_amount</th>\n",
       "    </tr>\n",
       "  </thead>\n",
       "  <tbody>\n",
       "    <tr>\n",
       "      <th>0</th>\n",
       "      <td>04/18/2023 02:30:05 PM</td>\n",
       "      <td>1.0</td>\n",
       "      <td>0.93</td>\n",
       "      <td>1</td>\n",
       "      <td>52.0</td>\n",
       "    </tr>\n",
       "    <tr>\n",
       "      <th>1</th>\n",
       "      <td>01/01/2023 12:31:23 AM</td>\n",
       "      <td>1.0</td>\n",
       "      <td>3.06</td>\n",
       "      <td>1</td>\n",
       "      <td>15.6</td>\n",
       "    </tr>\n",
       "    <tr>\n",
       "      <th>2</th>\n",
       "      <td>01/01/2023 12:05:11 AM</td>\n",
       "      <td>1.0</td>\n",
       "      <td>3.62</td>\n",
       "      <td>1</td>\n",
       "      <td>28.9</td>\n",
       "    </tr>\n",
       "    <tr>\n",
       "      <th>3</th>\n",
       "      <td>01/01/2023 12:03:33 AM</td>\n",
       "      <td>6.0</td>\n",
       "      <td>1.19</td>\n",
       "      <td>1</td>\n",
       "      <td>10.0</td>\n",
       "    </tr>\n",
       "    <tr>\n",
       "      <th>4</th>\n",
       "      <td>01/01/2023 12:01:43 AM</td>\n",
       "      <td>1.0</td>\n",
       "      <td>0.16</td>\n",
       "      <td>1</td>\n",
       "      <td>12.0</td>\n",
       "    </tr>\n",
       "    <tr>\n",
       "      <th>...</th>\n",
       "      <td>...</td>\n",
       "      <td>...</td>\n",
       "      <td>...</td>\n",
       "      <td>...</td>\n",
       "      <td>...</td>\n",
       "    </tr>\n",
       "    <tr>\n",
       "      <th>39656093</th>\n",
       "      <td>01/01/2001 01:52:48 AM</td>\n",
       "      <td>1.0</td>\n",
       "      <td>6.95</td>\n",
       "      <td>1</td>\n",
       "      <td>22.0</td>\n",
       "    </tr>\n",
       "    <tr>\n",
       "      <th>39656094</th>\n",
       "      <td>01/01/2001 01:23:51 AM</td>\n",
       "      <td>1.0</td>\n",
       "      <td>4.68</td>\n",
       "      <td>2</td>\n",
       "      <td>20.5</td>\n",
       "    </tr>\n",
       "    <tr>\n",
       "      <th>39656095</th>\n",
       "      <td>01/01/2001 01:02:18 AM</td>\n",
       "      <td>1.0</td>\n",
       "      <td>3.10</td>\n",
       "      <td>1</td>\n",
       "      <td>14.0</td>\n",
       "    </tr>\n",
       "    <tr>\n",
       "      <th>39656096</th>\n",
       "      <td>01/01/2001 12:27:45 AM</td>\n",
       "      <td>1.0</td>\n",
       "      <td>0.88</td>\n",
       "      <td>2</td>\n",
       "      <td>6.0</td>\n",
       "    </tr>\n",
       "    <tr>\n",
       "      <th>39656097</th>\n",
       "      <td>01/01/2001 12:03:14 AM</td>\n",
       "      <td>1.0</td>\n",
       "      <td>20.77</td>\n",
       "      <td>2</td>\n",
       "      <td>52.0</td>\n",
       "    </tr>\n",
       "  </tbody>\n",
       "</table>\n",
       "<p>39656098 rows × 5 columns</p>\n",
       "</div>"
      ],
      "text/plain": [
       "            tpep_pickup_datetime  passenger_count  trip_distance  \\\n",
       "0         04/18/2023 02:30:05 PM              1.0           0.93   \n",
       "1         01/01/2023 12:31:23 AM              1.0           3.06   \n",
       "2         01/01/2023 12:05:11 AM              1.0           3.62   \n",
       "3         01/01/2023 12:03:33 AM              6.0           1.19   \n",
       "4         01/01/2023 12:01:43 AM              1.0           0.16   \n",
       "...                          ...              ...            ...   \n",
       "39656093  01/01/2001 01:52:48 AM              1.0           6.95   \n",
       "39656094  01/01/2001 01:23:51 AM              1.0           4.68   \n",
       "39656095  01/01/2001 01:02:18 AM              1.0           3.10   \n",
       "39656096  01/01/2001 12:27:45 AM              1.0           0.88   \n",
       "39656097  01/01/2001 12:03:14 AM              1.0          20.77   \n",
       "\n",
       "          payment_type  fare_amount  \n",
       "0                    1         52.0  \n",
       "1                    1         15.6  \n",
       "2                    1         28.9  \n",
       "3                    1         10.0  \n",
       "4                    1         12.0  \n",
       "...                ...          ...  \n",
       "39656093             1         22.0  \n",
       "39656094             2         20.5  \n",
       "39656095             1         14.0  \n",
       "39656096             2          6.0  \n",
       "39656097             2         52.0  \n",
       "\n",
       "[39656098 rows x 5 columns]"
      ]
     },
     "execution_count": 4,
     "metadata": {},
     "output_type": "execute_result"
    }
   ],
   "source": [
    "df"
   ]
  },
  {
   "cell_type": "code",
   "execution_count": 5,
   "id": "b398f770-0eb6-489f-b6b4-9adecb769819",
   "metadata": {},
   "outputs": [
    {
     "data": {
      "text/plain": [
       "tpep_pickup_datetime     object\n",
       "passenger_count         float64\n",
       "trip_distance           float64\n",
       "payment_type              int64\n",
       "fare_amount             float64\n",
       "dtype: object"
      ]
     },
     "execution_count": 5,
     "metadata": {},
     "output_type": "execute_result"
    }
   ],
   "source": [
    "df2 = df\n",
    "df2.dtypes"
   ]
  },
  {
   "cell_type": "code",
   "execution_count": 6,
   "id": "ee4ea2b0-9966-4b80-b96f-ee5dea8c4e4f",
   "metadata": {},
   "outputs": [],
   "source": [
    "df2[\"tpep_pickup_datetime\"] = pd.to_datetime(df2[\"tpep_pickup_datetime\"], format=\"%m/%d/%Y %I:%M:%S %p\")"
   ]
  },
  {
   "cell_type": "code",
   "execution_count": 7,
   "id": "27b0666d-ae5b-4f78-bcb6-d9d935b0c6d9",
   "metadata": {},
   "outputs": [
    {
     "data": {
      "text/html": [
       "<div>\n",
       "<style scoped>\n",
       "    .dataframe tbody tr th:only-of-type {\n",
       "        vertical-align: middle;\n",
       "    }\n",
       "\n",
       "    .dataframe tbody tr th {\n",
       "        vertical-align: top;\n",
       "    }\n",
       "\n",
       "    .dataframe thead th {\n",
       "        text-align: right;\n",
       "    }\n",
       "</style>\n",
       "<table border=\"1\" class=\"dataframe\">\n",
       "  <thead>\n",
       "    <tr style=\"text-align: right;\">\n",
       "      <th></th>\n",
       "      <th>tpep_pickup_datetime</th>\n",
       "      <th>passenger_count</th>\n",
       "      <th>trip_distance</th>\n",
       "      <th>payment_type</th>\n",
       "      <th>fare_amount</th>\n",
       "    </tr>\n",
       "  </thead>\n",
       "  <tbody>\n",
       "    <tr>\n",
       "      <th>0</th>\n",
       "      <td>2023-04-18 14:30:05</td>\n",
       "      <td>1.0</td>\n",
       "      <td>0.93</td>\n",
       "      <td>1</td>\n",
       "      <td>52.0</td>\n",
       "    </tr>\n",
       "    <tr>\n",
       "      <th>1</th>\n",
       "      <td>2023-01-01 00:31:23</td>\n",
       "      <td>1.0</td>\n",
       "      <td>3.06</td>\n",
       "      <td>1</td>\n",
       "      <td>15.6</td>\n",
       "    </tr>\n",
       "    <tr>\n",
       "      <th>2</th>\n",
       "      <td>2023-01-01 00:05:11</td>\n",
       "      <td>1.0</td>\n",
       "      <td>3.62</td>\n",
       "      <td>1</td>\n",
       "      <td>28.9</td>\n",
       "    </tr>\n",
       "    <tr>\n",
       "      <th>3</th>\n",
       "      <td>2023-01-01 00:03:33</td>\n",
       "      <td>6.0</td>\n",
       "      <td>1.19</td>\n",
       "      <td>1</td>\n",
       "      <td>10.0</td>\n",
       "    </tr>\n",
       "    <tr>\n",
       "      <th>4</th>\n",
       "      <td>2023-01-01 00:01:43</td>\n",
       "      <td>1.0</td>\n",
       "      <td>0.16</td>\n",
       "      <td>1</td>\n",
       "      <td>12.0</td>\n",
       "    </tr>\n",
       "    <tr>\n",
       "      <th>...</th>\n",
       "      <td>...</td>\n",
       "      <td>...</td>\n",
       "      <td>...</td>\n",
       "      <td>...</td>\n",
       "      <td>...</td>\n",
       "    </tr>\n",
       "    <tr>\n",
       "      <th>39656093</th>\n",
       "      <td>2001-01-01 01:52:48</td>\n",
       "      <td>1.0</td>\n",
       "      <td>6.95</td>\n",
       "      <td>1</td>\n",
       "      <td>22.0</td>\n",
       "    </tr>\n",
       "    <tr>\n",
       "      <th>39656094</th>\n",
       "      <td>2001-01-01 01:23:51</td>\n",
       "      <td>1.0</td>\n",
       "      <td>4.68</td>\n",
       "      <td>2</td>\n",
       "      <td>20.5</td>\n",
       "    </tr>\n",
       "    <tr>\n",
       "      <th>39656095</th>\n",
       "      <td>2001-01-01 01:02:18</td>\n",
       "      <td>1.0</td>\n",
       "      <td>3.10</td>\n",
       "      <td>1</td>\n",
       "      <td>14.0</td>\n",
       "    </tr>\n",
       "    <tr>\n",
       "      <th>39656096</th>\n",
       "      <td>2001-01-01 00:27:45</td>\n",
       "      <td>1.0</td>\n",
       "      <td>0.88</td>\n",
       "      <td>2</td>\n",
       "      <td>6.0</td>\n",
       "    </tr>\n",
       "    <tr>\n",
       "      <th>39656097</th>\n",
       "      <td>2001-01-01 00:03:14</td>\n",
       "      <td>1.0</td>\n",
       "      <td>20.77</td>\n",
       "      <td>2</td>\n",
       "      <td>52.0</td>\n",
       "    </tr>\n",
       "  </tbody>\n",
       "</table>\n",
       "<p>39656098 rows × 5 columns</p>\n",
       "</div>"
      ],
      "text/plain": [
       "         tpep_pickup_datetime  passenger_count  trip_distance  payment_type  \\\n",
       "0         2023-04-18 14:30:05              1.0           0.93             1   \n",
       "1         2023-01-01 00:31:23              1.0           3.06             1   \n",
       "2         2023-01-01 00:05:11              1.0           3.62             1   \n",
       "3         2023-01-01 00:03:33              6.0           1.19             1   \n",
       "4         2023-01-01 00:01:43              1.0           0.16             1   \n",
       "...                       ...              ...            ...           ...   \n",
       "39656093  2001-01-01 01:52:48              1.0           6.95             1   \n",
       "39656094  2001-01-01 01:23:51              1.0           4.68             2   \n",
       "39656095  2001-01-01 01:02:18              1.0           3.10             1   \n",
       "39656096  2001-01-01 00:27:45              1.0           0.88             2   \n",
       "39656097  2001-01-01 00:03:14              1.0          20.77             2   \n",
       "\n",
       "          fare_amount  \n",
       "0                52.0  \n",
       "1                15.6  \n",
       "2                28.9  \n",
       "3                10.0  \n",
       "4                12.0  \n",
       "...               ...  \n",
       "39656093         22.0  \n",
       "39656094         20.5  \n",
       "39656095         14.0  \n",
       "39656096          6.0  \n",
       "39656097         52.0  \n",
       "\n",
       "[39656098 rows x 5 columns]"
      ]
     },
     "execution_count": 7,
     "metadata": {},
     "output_type": "execute_result"
    }
   ],
   "source": [
    "df2.dtypes\n",
    "df2"
   ]
  },
  {
   "cell_type": "markdown",
   "id": "ab32f97e-5ad0-4222-a146-9c65da1045aa",
   "metadata": {},
   "source": [
    "## Filter the data to work with a smaller df"
   ]
  },
  {
   "cell_type": "code",
   "execution_count": 9,
   "id": "35f95c3e-79bb-41cf-9802-81fe9b9e9de8",
   "metadata": {},
   "outputs": [],
   "source": [
    "filter_2022 = df2[\"tpep_pickup_datetime\"].dt.year == 2022\n",
    "filter_june = df2[\"tpep_pickup_datetime\"].dt.month == 6\n",
    "filter_day04 = df2[\"tpep_pickup_datetime\"].dt.day == 4\n",
    "\n",
    "df3 = df2[filter_2022 & filter_june & filter_day04]"
   ]
  },
  {
   "cell_type": "markdown",
   "id": "583dcdb5-6057-4331-a93f-b67792175051",
   "metadata": {},
   "source": [
    "# Step 5: cleaning your data"
   ]
  },
  {
   "cell_type": "markdown",
   "id": "e0f053cc-799c-4cb7-a737-57b67dd09ad1",
   "metadata": {},
   "source": [
    "#### fare_amount column have negative numbers and a 6999 row fare which looks like a error"
   ]
  },
  {
   "cell_type": "code",
   "execution_count": 12,
   "id": "d678cf32-e27b-425f-9fde-680baddb8070",
   "metadata": {},
   "outputs": [
    {
     "data": {
      "text/html": [
       "<div>\n",
       "<style scoped>\n",
       "    .dataframe tbody tr th:only-of-type {\n",
       "        vertical-align: middle;\n",
       "    }\n",
       "\n",
       "    .dataframe tbody tr th {\n",
       "        vertical-align: top;\n",
       "    }\n",
       "\n",
       "    .dataframe thead th {\n",
       "        text-align: right;\n",
       "    }\n",
       "</style>\n",
       "<table border=\"1\" class=\"dataframe\">\n",
       "  <thead>\n",
       "    <tr style=\"text-align: right;\">\n",
       "      <th></th>\n",
       "      <th>tpep_pickup_datetime</th>\n",
       "      <th>passenger_count</th>\n",
       "      <th>trip_distance</th>\n",
       "      <th>payment_type</th>\n",
       "      <th>fare_amount</th>\n",
       "    </tr>\n",
       "  </thead>\n",
       "  <tbody>\n",
       "    <tr>\n",
       "      <th>22987864</th>\n",
       "      <td>2022-06-04 11:45:57</td>\n",
       "      <td>4.0</td>\n",
       "      <td>14.80</td>\n",
       "      <td>2</td>\n",
       "      <td>6999.0</td>\n",
       "    </tr>\n",
       "    <tr>\n",
       "      <th>22974936</th>\n",
       "      <td>2022-06-04 13:37:38</td>\n",
       "      <td>2.0</td>\n",
       "      <td>0.00</td>\n",
       "      <td>2</td>\n",
       "      <td>450.0</td>\n",
       "    </tr>\n",
       "    <tr>\n",
       "      <th>23013339</th>\n",
       "      <td>2022-06-04 02:21:40</td>\n",
       "      <td>1.0</td>\n",
       "      <td>0.00</td>\n",
       "      <td>2</td>\n",
       "      <td>345.0</td>\n",
       "    </tr>\n",
       "    <tr>\n",
       "      <th>22931482</th>\n",
       "      <td>2022-06-04 19:22:56</td>\n",
       "      <td>1.0</td>\n",
       "      <td>95.68</td>\n",
       "      <td>2</td>\n",
       "      <td>340.0</td>\n",
       "    </tr>\n",
       "    <tr>\n",
       "      <th>22913402</th>\n",
       "      <td>2022-06-04 22:05:44</td>\n",
       "      <td>2.0</td>\n",
       "      <td>47.40</td>\n",
       "      <td>1</td>\n",
       "      <td>300.0</td>\n",
       "    </tr>\n",
       "    <tr>\n",
       "      <th>...</th>\n",
       "      <td>...</td>\n",
       "      <td>...</td>\n",
       "      <td>...</td>\n",
       "      <td>...</td>\n",
       "      <td>...</td>\n",
       "    </tr>\n",
       "    <tr>\n",
       "      <th>22999009</th>\n",
       "      <td>2022-06-04 09:44:07</td>\n",
       "      <td>1.0</td>\n",
       "      <td>0.00</td>\n",
       "      <td>4</td>\n",
       "      <td>-100.0</td>\n",
       "    </tr>\n",
       "    <tr>\n",
       "      <th>22988214</th>\n",
       "      <td>2022-06-04 11:42:57</td>\n",
       "      <td>4.0</td>\n",
       "      <td>46.32</td>\n",
       "      <td>2</td>\n",
       "      <td>-198.0</td>\n",
       "    </tr>\n",
       "    <tr>\n",
       "      <th>22987269</th>\n",
       "      <td>2022-06-04 11:51:23</td>\n",
       "      <td>1.0</td>\n",
       "      <td>0.00</td>\n",
       "      <td>4</td>\n",
       "      <td>-250.0</td>\n",
       "    </tr>\n",
       "    <tr>\n",
       "      <th>23007213</th>\n",
       "      <td>2022-06-04 06:04:52</td>\n",
       "      <td>3.0</td>\n",
       "      <td>73.86</td>\n",
       "      <td>2</td>\n",
       "      <td>-284.0</td>\n",
       "    </tr>\n",
       "    <tr>\n",
       "      <th>23013340</th>\n",
       "      <td>2022-06-04 02:21:40</td>\n",
       "      <td>1.0</td>\n",
       "      <td>0.00</td>\n",
       "      <td>4</td>\n",
       "      <td>-345.0</td>\n",
       "    </tr>\n",
       "  </tbody>\n",
       "</table>\n",
       "<p>122564 rows × 5 columns</p>\n",
       "</div>"
      ],
      "text/plain": [
       "         tpep_pickup_datetime  passenger_count  trip_distance  payment_type  \\\n",
       "22987864  2022-06-04 11:45:57              4.0          14.80             2   \n",
       "22974936  2022-06-04 13:37:38              2.0           0.00             2   \n",
       "23013339  2022-06-04 02:21:40              1.0           0.00             2   \n",
       "22931482  2022-06-04 19:22:56              1.0          95.68             2   \n",
       "22913402  2022-06-04 22:05:44              2.0          47.40             1   \n",
       "...                       ...              ...            ...           ...   \n",
       "22999009  2022-06-04 09:44:07              1.0           0.00             4   \n",
       "22988214  2022-06-04 11:42:57              4.0          46.32             2   \n",
       "22987269  2022-06-04 11:51:23              1.0           0.00             4   \n",
       "23007213  2022-06-04 06:04:52              3.0          73.86             2   \n",
       "23013340  2022-06-04 02:21:40              1.0           0.00             4   \n",
       "\n",
       "          fare_amount  \n",
       "22987864       6999.0  \n",
       "22974936        450.0  \n",
       "23013339        345.0  \n",
       "22931482        340.0  \n",
       "22913402        300.0  \n",
       "...               ...  \n",
       "22999009       -100.0  \n",
       "22988214       -198.0  \n",
       "22987269       -250.0  \n",
       "23007213       -284.0  \n",
       "23013340       -345.0  \n",
       "\n",
       "[122564 rows x 5 columns]"
      ]
     },
     "execution_count": 12,
     "metadata": {},
     "output_type": "execute_result"
    }
   ],
   "source": [
    "df3.sort_values(\"fare_amount\", ascending = False)"
   ]
  },
  {
   "cell_type": "code",
   "execution_count": 13,
   "id": "92a5970e-48be-4c43-bf59-c678036f8c0e",
   "metadata": {},
   "outputs": [],
   "source": [
    "def fare_error(x):\n",
    "    if x > 450:\n",
    "        return 1\n",
    "    elif x <= 0:\n",
    "        return 1\n",
    "    else:\n",
    "        return 0"
   ]
  },
  {
   "cell_type": "code",
   "execution_count": 14,
   "id": "18965aa5-c90f-435a-8605-a9a6b0dc1a99",
   "metadata": {},
   "outputs": [
    {
     "name": "stderr",
     "output_type": "stream",
     "text": [
      "/tmp/ipykernel_1747/2281713896.py:1: SettingWithCopyWarning: \n",
      "A value is trying to be set on a copy of a slice from a DataFrame.\n",
      "Try using .loc[row_indexer,col_indexer] = value instead\n",
      "\n",
      "See the caveats in the documentation: https://pandas.pydata.org/pandas-docs/stable/user_guide/indexing.html#returning-a-view-versus-a-copy\n",
      "  df3[\"fare_error\"] = df3[\"fare_amount\"].apply(fare_error)\n"
     ]
    }
   ],
   "source": [
    "df3[\"fare_error\"] = df3[\"fare_amount\"].apply(fare_error)"
   ]
  },
  {
   "cell_type": "code",
   "execution_count": 15,
   "id": "c6ce0f04-6148-48b1-b254-0c6ba34a7620",
   "metadata": {},
   "outputs": [
    {
     "data": {
      "text/html": [
       "<div>\n",
       "<style scoped>\n",
       "    .dataframe tbody tr th:only-of-type {\n",
       "        vertical-align: middle;\n",
       "    }\n",
       "\n",
       "    .dataframe tbody tr th {\n",
       "        vertical-align: top;\n",
       "    }\n",
       "\n",
       "    .dataframe thead th {\n",
       "        text-align: right;\n",
       "    }\n",
       "</style>\n",
       "<table border=\"1\" class=\"dataframe\">\n",
       "  <thead>\n",
       "    <tr style=\"text-align: right;\">\n",
       "      <th></th>\n",
       "      <th>tpep_pickup_datetime</th>\n",
       "      <th>passenger_count</th>\n",
       "      <th>trip_distance</th>\n",
       "      <th>payment_type</th>\n",
       "      <th>fare_amount</th>\n",
       "      <th>fare_error</th>\n",
       "    </tr>\n",
       "  </thead>\n",
       "  <tbody>\n",
       "    <tr>\n",
       "      <th>22987864</th>\n",
       "      <td>2022-06-04 11:45:57</td>\n",
       "      <td>4.0</td>\n",
       "      <td>14.80</td>\n",
       "      <td>2</td>\n",
       "      <td>6999.0</td>\n",
       "      <td>1</td>\n",
       "    </tr>\n",
       "    <tr>\n",
       "      <th>22974936</th>\n",
       "      <td>2022-06-04 13:37:38</td>\n",
       "      <td>2.0</td>\n",
       "      <td>0.00</td>\n",
       "      <td>2</td>\n",
       "      <td>450.0</td>\n",
       "      <td>0</td>\n",
       "    </tr>\n",
       "    <tr>\n",
       "      <th>23013339</th>\n",
       "      <td>2022-06-04 02:21:40</td>\n",
       "      <td>1.0</td>\n",
       "      <td>0.00</td>\n",
       "      <td>2</td>\n",
       "      <td>345.0</td>\n",
       "      <td>0</td>\n",
       "    </tr>\n",
       "    <tr>\n",
       "      <th>22931482</th>\n",
       "      <td>2022-06-04 19:22:56</td>\n",
       "      <td>1.0</td>\n",
       "      <td>95.68</td>\n",
       "      <td>2</td>\n",
       "      <td>340.0</td>\n",
       "      <td>0</td>\n",
       "    </tr>\n",
       "    <tr>\n",
       "      <th>22913402</th>\n",
       "      <td>2022-06-04 22:05:44</td>\n",
       "      <td>2.0</td>\n",
       "      <td>47.40</td>\n",
       "      <td>1</td>\n",
       "      <td>300.0</td>\n",
       "      <td>0</td>\n",
       "    </tr>\n",
       "    <tr>\n",
       "      <th>...</th>\n",
       "      <td>...</td>\n",
       "      <td>...</td>\n",
       "      <td>...</td>\n",
       "      <td>...</td>\n",
       "      <td>...</td>\n",
       "      <td>...</td>\n",
       "    </tr>\n",
       "    <tr>\n",
       "      <th>22999009</th>\n",
       "      <td>2022-06-04 09:44:07</td>\n",
       "      <td>1.0</td>\n",
       "      <td>0.00</td>\n",
       "      <td>4</td>\n",
       "      <td>-100.0</td>\n",
       "      <td>1</td>\n",
       "    </tr>\n",
       "    <tr>\n",
       "      <th>22988214</th>\n",
       "      <td>2022-06-04 11:42:57</td>\n",
       "      <td>4.0</td>\n",
       "      <td>46.32</td>\n",
       "      <td>2</td>\n",
       "      <td>-198.0</td>\n",
       "      <td>1</td>\n",
       "    </tr>\n",
       "    <tr>\n",
       "      <th>22987269</th>\n",
       "      <td>2022-06-04 11:51:23</td>\n",
       "      <td>1.0</td>\n",
       "      <td>0.00</td>\n",
       "      <td>4</td>\n",
       "      <td>-250.0</td>\n",
       "      <td>1</td>\n",
       "    </tr>\n",
       "    <tr>\n",
       "      <th>23007213</th>\n",
       "      <td>2022-06-04 06:04:52</td>\n",
       "      <td>3.0</td>\n",
       "      <td>73.86</td>\n",
       "      <td>2</td>\n",
       "      <td>-284.0</td>\n",
       "      <td>1</td>\n",
       "    </tr>\n",
       "    <tr>\n",
       "      <th>23013340</th>\n",
       "      <td>2022-06-04 02:21:40</td>\n",
       "      <td>1.0</td>\n",
       "      <td>0.00</td>\n",
       "      <td>4</td>\n",
       "      <td>-345.0</td>\n",
       "      <td>1</td>\n",
       "    </tr>\n",
       "  </tbody>\n",
       "</table>\n",
       "<p>122564 rows × 6 columns</p>\n",
       "</div>"
      ],
      "text/plain": [
       "         tpep_pickup_datetime  passenger_count  trip_distance  payment_type  \\\n",
       "22987864  2022-06-04 11:45:57              4.0          14.80             2   \n",
       "22974936  2022-06-04 13:37:38              2.0           0.00             2   \n",
       "23013339  2022-06-04 02:21:40              1.0           0.00             2   \n",
       "22931482  2022-06-04 19:22:56              1.0          95.68             2   \n",
       "22913402  2022-06-04 22:05:44              2.0          47.40             1   \n",
       "...                       ...              ...            ...           ...   \n",
       "22999009  2022-06-04 09:44:07              1.0           0.00             4   \n",
       "22988214  2022-06-04 11:42:57              4.0          46.32             2   \n",
       "22987269  2022-06-04 11:51:23              1.0           0.00             4   \n",
       "23007213  2022-06-04 06:04:52              3.0          73.86             2   \n",
       "23013340  2022-06-04 02:21:40              1.0           0.00             4   \n",
       "\n",
       "          fare_amount  fare_error  \n",
       "22987864       6999.0           1  \n",
       "22974936        450.0           0  \n",
       "23013339        345.0           0  \n",
       "22931482        340.0           0  \n",
       "22913402        300.0           0  \n",
       "...               ...         ...  \n",
       "22999009       -100.0           1  \n",
       "22988214       -198.0           1  \n",
       "22987269       -250.0           1  \n",
       "23007213       -284.0           1  \n",
       "23013340       -345.0           1  \n",
       "\n",
       "[122564 rows x 6 columns]"
      ]
     },
     "execution_count": 15,
     "metadata": {},
     "output_type": "execute_result"
    }
   ],
   "source": [
    "df3.sort_values(\"fare_amount\", ascending = False)"
   ]
  },
  {
   "cell_type": "code",
   "execution_count": 16,
   "id": "b899bac8-ce59-4acf-847e-4236d363b18d",
   "metadata": {},
   "outputs": [],
   "source": [
    "df4 = df3.drop(df3[df3['fare_error'] == 1].index)\n"
   ]
  },
  {
   "cell_type": "code",
   "execution_count": 17,
   "id": "47a579e7-a158-49bc-9741-8f3edfcf970e",
   "metadata": {},
   "outputs": [
    {
     "data": {
      "text/html": [
       "<div>\n",
       "<style scoped>\n",
       "    .dataframe tbody tr th:only-of-type {\n",
       "        vertical-align: middle;\n",
       "    }\n",
       "\n",
       "    .dataframe tbody tr th {\n",
       "        vertical-align: top;\n",
       "    }\n",
       "\n",
       "    .dataframe thead th {\n",
       "        text-align: right;\n",
       "    }\n",
       "</style>\n",
       "<table border=\"1\" class=\"dataframe\">\n",
       "  <thead>\n",
       "    <tr style=\"text-align: right;\">\n",
       "      <th></th>\n",
       "      <th>tpep_pickup_datetime</th>\n",
       "      <th>passenger_count</th>\n",
       "      <th>trip_distance</th>\n",
       "      <th>payment_type</th>\n",
       "      <th>fare_amount</th>\n",
       "      <th>fare_error</th>\n",
       "    </tr>\n",
       "  </thead>\n",
       "  <tbody>\n",
       "    <tr>\n",
       "      <th>22937414</th>\n",
       "      <td>2022-06-04 18:38:36</td>\n",
       "      <td>1.0</td>\n",
       "      <td>0.0</td>\n",
       "      <td>1</td>\n",
       "      <td>0.01</td>\n",
       "      <td>0</td>\n",
       "    </tr>\n",
       "    <tr>\n",
       "      <th>23008474</th>\n",
       "      <td>2022-06-04 04:26:13</td>\n",
       "      <td>1.0</td>\n",
       "      <td>0.0</td>\n",
       "      <td>2</td>\n",
       "      <td>0.01</td>\n",
       "      <td>0</td>\n",
       "    </tr>\n",
       "    <tr>\n",
       "      <th>22985399</th>\n",
       "      <td>2022-06-04 12:08:17</td>\n",
       "      <td>2.0</td>\n",
       "      <td>5.2</td>\n",
       "      <td>3</td>\n",
       "      <td>0.01</td>\n",
       "      <td>0</td>\n",
       "    </tr>\n",
       "    <tr>\n",
       "      <th>22978393</th>\n",
       "      <td>2022-06-04 13:08:33</td>\n",
       "      <td>1.0</td>\n",
       "      <td>0.0</td>\n",
       "      <td>3</td>\n",
       "      <td>0.01</td>\n",
       "      <td>0</td>\n",
       "    </tr>\n",
       "    <tr>\n",
       "      <th>23011794</th>\n",
       "      <td>2022-06-04 02:50:37</td>\n",
       "      <td>1.0</td>\n",
       "      <td>0.0</td>\n",
       "      <td>2</td>\n",
       "      <td>0.01</td>\n",
       "      <td>0</td>\n",
       "    </tr>\n",
       "    <tr>\n",
       "      <th>23019027</th>\n",
       "      <td>2022-06-04 00:55:36</td>\n",
       "      <td>1.0</td>\n",
       "      <td>1.0</td>\n",
       "      <td>3</td>\n",
       "      <td>0.01</td>\n",
       "      <td>0</td>\n",
       "    </tr>\n",
       "    <tr>\n",
       "      <th>22955889</th>\n",
       "      <td>2022-06-04 16:16:32</td>\n",
       "      <td>1.0</td>\n",
       "      <td>0.0</td>\n",
       "      <td>1</td>\n",
       "      <td>0.01</td>\n",
       "      <td>0</td>\n",
       "    </tr>\n",
       "    <tr>\n",
       "      <th>22937509</th>\n",
       "      <td>2022-06-04 18:37:58</td>\n",
       "      <td>4.0</td>\n",
       "      <td>0.1</td>\n",
       "      <td>4</td>\n",
       "      <td>0.01</td>\n",
       "      <td>0</td>\n",
       "    </tr>\n",
       "    <tr>\n",
       "      <th>22995046</th>\n",
       "      <td>2022-06-04 10:33:10</td>\n",
       "      <td>0.0</td>\n",
       "      <td>27.2</td>\n",
       "      <td>2</td>\n",
       "      <td>0.01</td>\n",
       "      <td>0</td>\n",
       "    </tr>\n",
       "    <tr>\n",
       "      <th>23016515</th>\n",
       "      <td>2022-06-04 01:30:26</td>\n",
       "      <td>1.0</td>\n",
       "      <td>0.0</td>\n",
       "      <td>3</td>\n",
       "      <td>0.01</td>\n",
       "      <td>0</td>\n",
       "    </tr>\n",
       "  </tbody>\n",
       "</table>\n",
       "</div>"
      ],
      "text/plain": [
       "         tpep_pickup_datetime  passenger_count  trip_distance  payment_type  \\\n",
       "22937414  2022-06-04 18:38:36              1.0            0.0             1   \n",
       "23008474  2022-06-04 04:26:13              1.0            0.0             2   \n",
       "22985399  2022-06-04 12:08:17              2.0            5.2             3   \n",
       "22978393  2022-06-04 13:08:33              1.0            0.0             3   \n",
       "23011794  2022-06-04 02:50:37              1.0            0.0             2   \n",
       "23019027  2022-06-04 00:55:36              1.0            1.0             3   \n",
       "22955889  2022-06-04 16:16:32              1.0            0.0             1   \n",
       "22937509  2022-06-04 18:37:58              4.0            0.1             4   \n",
       "22995046  2022-06-04 10:33:10              0.0           27.2             2   \n",
       "23016515  2022-06-04 01:30:26              1.0            0.0             3   \n",
       "\n",
       "          fare_amount  fare_error  \n",
       "22937414         0.01           0  \n",
       "23008474         0.01           0  \n",
       "22985399         0.01           0  \n",
       "22978393         0.01           0  \n",
       "23011794         0.01           0  \n",
       "23019027         0.01           0  \n",
       "22955889         0.01           0  \n",
       "22937509         0.01           0  \n",
       "22995046         0.01           0  \n",
       "23016515         0.01           0  "
      ]
     },
     "execution_count": 17,
     "metadata": {},
     "output_type": "execute_result"
    }
   ],
   "source": [
    "df4.sort_values(\"fare_amount\").head(10)"
   ]
  },
  {
   "cell_type": "markdown",
   "id": "457241ee-33da-4f8f-b66c-27a7ef6a40a2",
   "metadata": {},
   "source": [
    "### The minimum fare is $2.50"
   ]
  },
  {
   "cell_type": "code",
   "execution_count": 19,
   "id": "704e6b2d-df89-4c76-b210-39be006d9b1d",
   "metadata": {},
   "outputs": [],
   "source": [
    "df5 = df4.drop(df4[df4['fare_amount'] < 2.50 ].index)\n"
   ]
  },
  {
   "cell_type": "code",
   "execution_count": 20,
   "id": "9ed8a137-a55a-4b19-b542-b52221f51aa4",
   "metadata": {},
   "outputs": [
    {
     "data": {
      "text/html": [
       "<div>\n",
       "<style scoped>\n",
       "    .dataframe tbody tr th:only-of-type {\n",
       "        vertical-align: middle;\n",
       "    }\n",
       "\n",
       "    .dataframe tbody tr th {\n",
       "        vertical-align: top;\n",
       "    }\n",
       "\n",
       "    .dataframe thead th {\n",
       "        text-align: right;\n",
       "    }\n",
       "</style>\n",
       "<table border=\"1\" class=\"dataframe\">\n",
       "  <thead>\n",
       "    <tr style=\"text-align: right;\">\n",
       "      <th></th>\n",
       "      <th>tpep_pickup_datetime</th>\n",
       "      <th>passenger_count</th>\n",
       "      <th>trip_distance</th>\n",
       "      <th>payment_type</th>\n",
       "      <th>fare_amount</th>\n",
       "      <th>fare_error</th>\n",
       "    </tr>\n",
       "  </thead>\n",
       "  <tbody>\n",
       "    <tr>\n",
       "      <th>22942380</th>\n",
       "      <td>2022-06-04 18:01:57</td>\n",
       "      <td>0.0</td>\n",
       "      <td>0.00</td>\n",
       "      <td>3</td>\n",
       "      <td>2.5</td>\n",
       "      <td>0</td>\n",
       "    </tr>\n",
       "    <tr>\n",
       "      <th>22962935</th>\n",
       "      <td>2022-06-04 15:17:36</td>\n",
       "      <td>1.0</td>\n",
       "      <td>0.00</td>\n",
       "      <td>4</td>\n",
       "      <td>2.5</td>\n",
       "      <td>0</td>\n",
       "    </tr>\n",
       "    <tr>\n",
       "      <th>22994842</th>\n",
       "      <td>2022-06-04 10:35:38</td>\n",
       "      <td>0.0</td>\n",
       "      <td>0.00</td>\n",
       "      <td>2</td>\n",
       "      <td>2.5</td>\n",
       "      <td>0</td>\n",
       "    </tr>\n",
       "    <tr>\n",
       "      <th>23007583</th>\n",
       "      <td>2022-06-04 05:34:22</td>\n",
       "      <td>6.0</td>\n",
       "      <td>0.02</td>\n",
       "      <td>2</td>\n",
       "      <td>2.5</td>\n",
       "      <td>0</td>\n",
       "    </tr>\n",
       "    <tr>\n",
       "      <th>22993588</th>\n",
       "      <td>2022-06-04 10:49:04</td>\n",
       "      <td>0.0</td>\n",
       "      <td>0.00</td>\n",
       "      <td>2</td>\n",
       "      <td>2.5</td>\n",
       "      <td>0</td>\n",
       "    </tr>\n",
       "    <tr>\n",
       "      <th>22909910</th>\n",
       "      <td>2022-06-04 22:38:38</td>\n",
       "      <td>1.0</td>\n",
       "      <td>0.11</td>\n",
       "      <td>2</td>\n",
       "      <td>2.5</td>\n",
       "      <td>0</td>\n",
       "    </tr>\n",
       "    <tr>\n",
       "      <th>22981745</th>\n",
       "      <td>2022-06-04 12:40:12</td>\n",
       "      <td>1.0</td>\n",
       "      <td>0.00</td>\n",
       "      <td>2</td>\n",
       "      <td>2.5</td>\n",
       "      <td>0</td>\n",
       "    </tr>\n",
       "    <tr>\n",
       "      <th>22951466</th>\n",
       "      <td>2022-06-04 16:51:45</td>\n",
       "      <td>1.0</td>\n",
       "      <td>0.07</td>\n",
       "      <td>2</td>\n",
       "      <td>2.5</td>\n",
       "      <td>0</td>\n",
       "    </tr>\n",
       "    <tr>\n",
       "      <th>22936764</th>\n",
       "      <td>2022-06-04 18:43:25</td>\n",
       "      <td>1.0</td>\n",
       "      <td>0.03</td>\n",
       "      <td>1</td>\n",
       "      <td>2.5</td>\n",
       "      <td>0</td>\n",
       "    </tr>\n",
       "    <tr>\n",
       "      <th>23007578</th>\n",
       "      <td>2022-06-04 05:35:01</td>\n",
       "      <td>1.0</td>\n",
       "      <td>0.00</td>\n",
       "      <td>1</td>\n",
       "      <td>2.5</td>\n",
       "      <td>0</td>\n",
       "    </tr>\n",
       "  </tbody>\n",
       "</table>\n",
       "</div>"
      ],
      "text/plain": [
       "         tpep_pickup_datetime  passenger_count  trip_distance  payment_type  \\\n",
       "22942380  2022-06-04 18:01:57              0.0           0.00             3   \n",
       "22962935  2022-06-04 15:17:36              1.0           0.00             4   \n",
       "22994842  2022-06-04 10:35:38              0.0           0.00             2   \n",
       "23007583  2022-06-04 05:34:22              6.0           0.02             2   \n",
       "22993588  2022-06-04 10:49:04              0.0           0.00             2   \n",
       "22909910  2022-06-04 22:38:38              1.0           0.11             2   \n",
       "22981745  2022-06-04 12:40:12              1.0           0.00             2   \n",
       "22951466  2022-06-04 16:51:45              1.0           0.07             2   \n",
       "22936764  2022-06-04 18:43:25              1.0           0.03             1   \n",
       "23007578  2022-06-04 05:35:01              1.0           0.00             1   \n",
       "\n",
       "          fare_amount  fare_error  \n",
       "22942380          2.5           0  \n",
       "22962935          2.5           0  \n",
       "22994842          2.5           0  \n",
       "23007583          2.5           0  \n",
       "22993588          2.5           0  \n",
       "22909910          2.5           0  \n",
       "22981745          2.5           0  \n",
       "22951466          2.5           0  \n",
       "22936764          2.5           0  \n",
       "23007578          2.5           0  "
      ]
     },
     "execution_count": 20,
     "metadata": {},
     "output_type": "execute_result"
    }
   ],
   "source": [
    "df5.sort_values(\"fare_amount\").head(10)"
   ]
  },
  {
   "cell_type": "markdown",
   "id": "35f738ec-9dac-4dc6-8cb6-df8415375e10",
   "metadata": {},
   "source": [
    "### Clean the trip distance"
   ]
  },
  {
   "cell_type": "code",
   "execution_count": 22,
   "id": "c5cf38ea-7ade-44a6-b7d7-318adff2e95b",
   "metadata": {},
   "outputs": [
    {
     "data": {
      "text/html": [
       "<div>\n",
       "<style scoped>\n",
       "    .dataframe tbody tr th:only-of-type {\n",
       "        vertical-align: middle;\n",
       "    }\n",
       "\n",
       "    .dataframe tbody tr th {\n",
       "        vertical-align: top;\n",
       "    }\n",
       "\n",
       "    .dataframe thead th {\n",
       "        text-align: right;\n",
       "    }\n",
       "</style>\n",
       "<table border=\"1\" class=\"dataframe\">\n",
       "  <thead>\n",
       "    <tr style=\"text-align: right;\">\n",
       "      <th></th>\n",
       "      <th>tpep_pickup_datetime</th>\n",
       "      <th>passenger_count</th>\n",
       "      <th>trip_distance</th>\n",
       "      <th>payment_type</th>\n",
       "      <th>fare_amount</th>\n",
       "      <th>fare_error</th>\n",
       "    </tr>\n",
       "  </thead>\n",
       "  <tbody>\n",
       "    <tr>\n",
       "      <th>22975404</th>\n",
       "      <td>2022-06-04 13:34:00</td>\n",
       "      <td>NaN</td>\n",
       "      <td>133958.45</td>\n",
       "      <td>0</td>\n",
       "      <td>20.86</td>\n",
       "      <td>0</td>\n",
       "    </tr>\n",
       "    <tr>\n",
       "      <th>22913712</th>\n",
       "      <td>2022-06-04 22:03:00</td>\n",
       "      <td>NaN</td>\n",
       "      <td>47220.34</td>\n",
       "      <td>0</td>\n",
       "      <td>10.30</td>\n",
       "      <td>0</td>\n",
       "    </tr>\n",
       "    <tr>\n",
       "      <th>22981521</th>\n",
       "      <td>2022-06-04 12:42:00</td>\n",
       "      <td>NaN</td>\n",
       "      <td>21756.70</td>\n",
       "      <td>0</td>\n",
       "      <td>10.00</td>\n",
       "      <td>0</td>\n",
       "    </tr>\n",
       "    <tr>\n",
       "      <th>22931482</th>\n",
       "      <td>2022-06-04 19:22:56</td>\n",
       "      <td>1.0</td>\n",
       "      <td>95.68</td>\n",
       "      <td>2</td>\n",
       "      <td>340.00</td>\n",
       "      <td>0</td>\n",
       "    </tr>\n",
       "    <tr>\n",
       "      <th>22975583</th>\n",
       "      <td>2022-06-04 13:32:25</td>\n",
       "      <td>1.0</td>\n",
       "      <td>87.89</td>\n",
       "      <td>1</td>\n",
       "      <td>160.00</td>\n",
       "      <td>0</td>\n",
       "    </tr>\n",
       "    <tr>\n",
       "      <th>...</th>\n",
       "      <td>...</td>\n",
       "      <td>...</td>\n",
       "      <td>...</td>\n",
       "      <td>...</td>\n",
       "      <td>...</td>\n",
       "      <td>...</td>\n",
       "    </tr>\n",
       "    <tr>\n",
       "      <th>22984318</th>\n",
       "      <td>2022-06-04 12:17:54</td>\n",
       "      <td>1.0</td>\n",
       "      <td>0.00</td>\n",
       "      <td>1</td>\n",
       "      <td>2.50</td>\n",
       "      <td>0</td>\n",
       "    </tr>\n",
       "    <tr>\n",
       "      <th>22919395</th>\n",
       "      <td>2022-06-04 21:11:02</td>\n",
       "      <td>1.0</td>\n",
       "      <td>0.00</td>\n",
       "      <td>2</td>\n",
       "      <td>2.50</td>\n",
       "      <td>0</td>\n",
       "    </tr>\n",
       "    <tr>\n",
       "      <th>23010751</th>\n",
       "      <td>2022-06-04 03:13:55</td>\n",
       "      <td>1.0</td>\n",
       "      <td>0.00</td>\n",
       "      <td>1</td>\n",
       "      <td>75.00</td>\n",
       "      <td>0</td>\n",
       "    </tr>\n",
       "    <tr>\n",
       "      <th>23010750</th>\n",
       "      <td>2022-06-04 03:13:58</td>\n",
       "      <td>1.0</td>\n",
       "      <td>0.00</td>\n",
       "      <td>1</td>\n",
       "      <td>2.50</td>\n",
       "      <td>0</td>\n",
       "    </tr>\n",
       "    <tr>\n",
       "      <th>22962904</th>\n",
       "      <td>2022-06-04 15:17:48</td>\n",
       "      <td>3.0</td>\n",
       "      <td>0.00</td>\n",
       "      <td>1</td>\n",
       "      <td>65.00</td>\n",
       "      <td>0</td>\n",
       "    </tr>\n",
       "  </tbody>\n",
       "</table>\n",
       "<p>121705 rows × 6 columns</p>\n",
       "</div>"
      ],
      "text/plain": [
       "         tpep_pickup_datetime  passenger_count  trip_distance  payment_type  \\\n",
       "22975404  2022-06-04 13:34:00              NaN      133958.45             0   \n",
       "22913712  2022-06-04 22:03:00              NaN       47220.34             0   \n",
       "22981521  2022-06-04 12:42:00              NaN       21756.70             0   \n",
       "22931482  2022-06-04 19:22:56              1.0          95.68             2   \n",
       "22975583  2022-06-04 13:32:25              1.0          87.89             1   \n",
       "...                       ...              ...            ...           ...   \n",
       "22984318  2022-06-04 12:17:54              1.0           0.00             1   \n",
       "22919395  2022-06-04 21:11:02              1.0           0.00             2   \n",
       "23010751  2022-06-04 03:13:55              1.0           0.00             1   \n",
       "23010750  2022-06-04 03:13:58              1.0           0.00             1   \n",
       "22962904  2022-06-04 15:17:48              3.0           0.00             1   \n",
       "\n",
       "          fare_amount  fare_error  \n",
       "22975404        20.86           0  \n",
       "22913712        10.30           0  \n",
       "22981521        10.00           0  \n",
       "22931482       340.00           0  \n",
       "22975583       160.00           0  \n",
       "...               ...         ...  \n",
       "22984318         2.50           0  \n",
       "22919395         2.50           0  \n",
       "23010751        75.00           0  \n",
       "23010750         2.50           0  \n",
       "22962904        65.00           0  \n",
       "\n",
       "[121705 rows x 6 columns]"
      ]
     },
     "execution_count": 22,
     "metadata": {},
     "output_type": "execute_result"
    }
   ],
   "source": [
    "df5.sort_values(\"trip_distance\", ascending = False)"
   ]
  },
  {
   "cell_type": "markdown",
   "id": "9a93f1d8-5226-4492-9e5b-cdd45428713b",
   "metadata": {},
   "source": [
    "### Set a distance minimun of 0.5 miles"
   ]
  },
  {
   "cell_type": "code",
   "execution_count": 24,
   "id": "5c6d6731-fd31-40fb-93e2-2f18eb8b44f6",
   "metadata": {},
   "outputs": [],
   "source": [
    "df5 = df5.drop(df5[df5['trip_distance'] < 0.5 ].index)\n",
    "df5 = df5.drop(df5[df5['trip_distance'] >100 ].index)\n"
   ]
  },
  {
   "cell_type": "code",
   "execution_count": 25,
   "id": "5f52d6e2-d3b8-4f02-9eed-38156418ac23",
   "metadata": {},
   "outputs": [
    {
     "data": {
      "text/html": [
       "<div>\n",
       "<style scoped>\n",
       "    .dataframe tbody tr th:only-of-type {\n",
       "        vertical-align: middle;\n",
       "    }\n",
       "\n",
       "    .dataframe tbody tr th {\n",
       "        vertical-align: top;\n",
       "    }\n",
       "\n",
       "    .dataframe thead th {\n",
       "        text-align: right;\n",
       "    }\n",
       "</style>\n",
       "<table border=\"1\" class=\"dataframe\">\n",
       "  <thead>\n",
       "    <tr style=\"text-align: right;\">\n",
       "      <th></th>\n",
       "      <th>tpep_pickup_datetime</th>\n",
       "      <th>passenger_count</th>\n",
       "      <th>trip_distance</th>\n",
       "      <th>payment_type</th>\n",
       "      <th>fare_amount</th>\n",
       "      <th>fare_error</th>\n",
       "    </tr>\n",
       "  </thead>\n",
       "  <tbody>\n",
       "    <tr>\n",
       "      <th>22931482</th>\n",
       "      <td>2022-06-04 19:22:56</td>\n",
       "      <td>1.0</td>\n",
       "      <td>95.68</td>\n",
       "      <td>2</td>\n",
       "      <td>340.0</td>\n",
       "      <td>0</td>\n",
       "    </tr>\n",
       "    <tr>\n",
       "      <th>22975583</th>\n",
       "      <td>2022-06-04 13:32:25</td>\n",
       "      <td>1.0</td>\n",
       "      <td>87.89</td>\n",
       "      <td>1</td>\n",
       "      <td>160.0</td>\n",
       "      <td>0</td>\n",
       "    </tr>\n",
       "    <tr>\n",
       "      <th>23007214</th>\n",
       "      <td>2022-06-04 06:04:52</td>\n",
       "      <td>3.0</td>\n",
       "      <td>73.86</td>\n",
       "      <td>2</td>\n",
       "      <td>284.0</td>\n",
       "      <td>0</td>\n",
       "    </tr>\n",
       "    <tr>\n",
       "      <th>22913600</th>\n",
       "      <td>2022-06-04 22:03:57</td>\n",
       "      <td>1.0</td>\n",
       "      <td>59.00</td>\n",
       "      <td>1</td>\n",
       "      <td>283.0</td>\n",
       "      <td>0</td>\n",
       "    </tr>\n",
       "    <tr>\n",
       "      <th>22907937</th>\n",
       "      <td>2022-06-04 22:56:20</td>\n",
       "      <td>0.0</td>\n",
       "      <td>54.20</td>\n",
       "      <td>2</td>\n",
       "      <td>144.0</td>\n",
       "      <td>0</td>\n",
       "    </tr>\n",
       "    <tr>\n",
       "      <th>...</th>\n",
       "      <td>...</td>\n",
       "      <td>...</td>\n",
       "      <td>...</td>\n",
       "      <td>...</td>\n",
       "      <td>...</td>\n",
       "      <td>...</td>\n",
       "    </tr>\n",
       "    <tr>\n",
       "      <th>22984004</th>\n",
       "      <td>2022-06-04 12:20:28</td>\n",
       "      <td>3.0</td>\n",
       "      <td>0.50</td>\n",
       "      <td>1</td>\n",
       "      <td>6.0</td>\n",
       "      <td>0</td>\n",
       "    </tr>\n",
       "    <tr>\n",
       "      <th>22968407</th>\n",
       "      <td>2022-06-04 14:32:49</td>\n",
       "      <td>2.0</td>\n",
       "      <td>0.50</td>\n",
       "      <td>1</td>\n",
       "      <td>4.0</td>\n",
       "      <td>0</td>\n",
       "    </tr>\n",
       "    <tr>\n",
       "      <th>22956885</th>\n",
       "      <td>2022-06-04 16:08:22</td>\n",
       "      <td>1.0</td>\n",
       "      <td>0.50</td>\n",
       "      <td>2</td>\n",
       "      <td>4.5</td>\n",
       "      <td>0</td>\n",
       "    </tr>\n",
       "    <tr>\n",
       "      <th>22913888</th>\n",
       "      <td>2022-06-04 22:01:26</td>\n",
       "      <td>1.0</td>\n",
       "      <td>0.50</td>\n",
       "      <td>1</td>\n",
       "      <td>5.0</td>\n",
       "      <td>0</td>\n",
       "    </tr>\n",
       "    <tr>\n",
       "      <th>23005076</th>\n",
       "      <td>2022-06-04 07:39:23</td>\n",
       "      <td>1.0</td>\n",
       "      <td>0.50</td>\n",
       "      <td>1</td>\n",
       "      <td>4.0</td>\n",
       "      <td>0</td>\n",
       "    </tr>\n",
       "  </tbody>\n",
       "</table>\n",
       "<p>116802 rows × 6 columns</p>\n",
       "</div>"
      ],
      "text/plain": [
       "         tpep_pickup_datetime  passenger_count  trip_distance  payment_type  \\\n",
       "22931482  2022-06-04 19:22:56              1.0          95.68             2   \n",
       "22975583  2022-06-04 13:32:25              1.0          87.89             1   \n",
       "23007214  2022-06-04 06:04:52              3.0          73.86             2   \n",
       "22913600  2022-06-04 22:03:57              1.0          59.00             1   \n",
       "22907937  2022-06-04 22:56:20              0.0          54.20             2   \n",
       "...                       ...              ...            ...           ...   \n",
       "22984004  2022-06-04 12:20:28              3.0           0.50             1   \n",
       "22968407  2022-06-04 14:32:49              2.0           0.50             1   \n",
       "22956885  2022-06-04 16:08:22              1.0           0.50             2   \n",
       "22913888  2022-06-04 22:01:26              1.0           0.50             1   \n",
       "23005076  2022-06-04 07:39:23              1.0           0.50             1   \n",
       "\n",
       "          fare_amount  fare_error  \n",
       "22931482        340.0           0  \n",
       "22975583        160.0           0  \n",
       "23007214        284.0           0  \n",
       "22913600        283.0           0  \n",
       "22907937        144.0           0  \n",
       "...               ...         ...  \n",
       "22984004          6.0           0  \n",
       "22968407          4.0           0  \n",
       "22956885          4.5           0  \n",
       "22913888          5.0           0  \n",
       "23005076          4.0           0  \n",
       "\n",
       "[116802 rows x 6 columns]"
      ]
     },
     "execution_count": 25,
     "metadata": {},
     "output_type": "execute_result"
    }
   ],
   "source": [
    "df5.sort_values(\"trip_distance\", ascending = False)"
   ]
  },
  {
   "cell_type": "markdown",
   "id": "1476881a-fd57-4020-9510-2934626b8575",
   "metadata": {},
   "source": [
    "### Clean passenger_count"
   ]
  },
  {
   "cell_type": "code",
   "execution_count": 27,
   "id": "57314987-4119-4555-8347-4fd1197a491b",
   "metadata": {},
   "outputs": [
    {
     "data": {
      "text/html": [
       "<div>\n",
       "<style scoped>\n",
       "    .dataframe tbody tr th:only-of-type {\n",
       "        vertical-align: middle;\n",
       "    }\n",
       "\n",
       "    .dataframe tbody tr th {\n",
       "        vertical-align: top;\n",
       "    }\n",
       "\n",
       "    .dataframe thead th {\n",
       "        text-align: right;\n",
       "    }\n",
       "</style>\n",
       "<table border=\"1\" class=\"dataframe\">\n",
       "  <thead>\n",
       "    <tr style=\"text-align: right;\">\n",
       "      <th></th>\n",
       "      <th>tpep_pickup_datetime</th>\n",
       "      <th>passenger_count</th>\n",
       "      <th>trip_distance</th>\n",
       "      <th>payment_type</th>\n",
       "      <th>fare_amount</th>\n",
       "      <th>fare_error</th>\n",
       "    </tr>\n",
       "  </thead>\n",
       "  <tbody>\n",
       "    <tr>\n",
       "      <th>22924262</th>\n",
       "      <td>2022-06-04 20:24:03</td>\n",
       "      <td>0.0</td>\n",
       "      <td>3.00</td>\n",
       "      <td>1</td>\n",
       "      <td>13.00</td>\n",
       "      <td>0</td>\n",
       "    </tr>\n",
       "    <tr>\n",
       "      <th>22928800</th>\n",
       "      <td>2022-06-04 19:43:39</td>\n",
       "      <td>0.0</td>\n",
       "      <td>0.80</td>\n",
       "      <td>1</td>\n",
       "      <td>6.00</td>\n",
       "      <td>0</td>\n",
       "    </tr>\n",
       "    <tr>\n",
       "      <th>22906827</th>\n",
       "      <td>2022-06-04 23:06:26</td>\n",
       "      <td>0.0</td>\n",
       "      <td>1.40</td>\n",
       "      <td>1</td>\n",
       "      <td>6.50</td>\n",
       "      <td>0</td>\n",
       "    </tr>\n",
       "    <tr>\n",
       "      <th>23001260</th>\n",
       "      <td>2022-06-04 09:08:44</td>\n",
       "      <td>0.0</td>\n",
       "      <td>1.90</td>\n",
       "      <td>2</td>\n",
       "      <td>8.50</td>\n",
       "      <td>0</td>\n",
       "    </tr>\n",
       "    <tr>\n",
       "      <th>23005561</th>\n",
       "      <td>2022-06-04 07:23:46</td>\n",
       "      <td>0.0</td>\n",
       "      <td>2.00</td>\n",
       "      <td>1</td>\n",
       "      <td>7.50</td>\n",
       "      <td>0</td>\n",
       "    </tr>\n",
       "    <tr>\n",
       "      <th>...</th>\n",
       "      <td>...</td>\n",
       "      <td>...</td>\n",
       "      <td>...</td>\n",
       "      <td>...</td>\n",
       "      <td>...</td>\n",
       "      <td>...</td>\n",
       "    </tr>\n",
       "    <tr>\n",
       "      <th>23023814</th>\n",
       "      <td>2022-06-04 00:01:11</td>\n",
       "      <td>NaN</td>\n",
       "      <td>16.55</td>\n",
       "      <td>0</td>\n",
       "      <td>53.05</td>\n",
       "      <td>0</td>\n",
       "    </tr>\n",
       "    <tr>\n",
       "      <th>23023834</th>\n",
       "      <td>2022-06-04 00:01:00</td>\n",
       "      <td>NaN</td>\n",
       "      <td>2.57</td>\n",
       "      <td>0</td>\n",
       "      <td>15.19</td>\n",
       "      <td>0</td>\n",
       "    </tr>\n",
       "    <tr>\n",
       "      <th>23023835</th>\n",
       "      <td>2022-06-04 00:01:00</td>\n",
       "      <td>NaN</td>\n",
       "      <td>3.58</td>\n",
       "      <td>0</td>\n",
       "      <td>19.82</td>\n",
       "      <td>0</td>\n",
       "    </tr>\n",
       "    <tr>\n",
       "      <th>23023867</th>\n",
       "      <td>2022-06-04 00:00:41</td>\n",
       "      <td>NaN</td>\n",
       "      <td>3.50</td>\n",
       "      <td>0</td>\n",
       "      <td>17.95</td>\n",
       "      <td>0</td>\n",
       "    </tr>\n",
       "    <tr>\n",
       "      <th>23023932</th>\n",
       "      <td>2022-06-04 00:00:00</td>\n",
       "      <td>NaN</td>\n",
       "      <td>7.38</td>\n",
       "      <td>0</td>\n",
       "      <td>30.08</td>\n",
       "      <td>0</td>\n",
       "    </tr>\n",
       "  </tbody>\n",
       "</table>\n",
       "<p>116802 rows × 6 columns</p>\n",
       "</div>"
      ],
      "text/plain": [
       "         tpep_pickup_datetime  passenger_count  trip_distance  payment_type  \\\n",
       "22924262  2022-06-04 20:24:03              0.0           3.00             1   \n",
       "22928800  2022-06-04 19:43:39              0.0           0.80             1   \n",
       "22906827  2022-06-04 23:06:26              0.0           1.40             1   \n",
       "23001260  2022-06-04 09:08:44              0.0           1.90             2   \n",
       "23005561  2022-06-04 07:23:46              0.0           2.00             1   \n",
       "...                       ...              ...            ...           ...   \n",
       "23023814  2022-06-04 00:01:11              NaN          16.55             0   \n",
       "23023834  2022-06-04 00:01:00              NaN           2.57             0   \n",
       "23023835  2022-06-04 00:01:00              NaN           3.58             0   \n",
       "23023867  2022-06-04 00:00:41              NaN           3.50             0   \n",
       "23023932  2022-06-04 00:00:00              NaN           7.38             0   \n",
       "\n",
       "          fare_amount  fare_error  \n",
       "22924262        13.00           0  \n",
       "22928800         6.00           0  \n",
       "22906827         6.50           0  \n",
       "23001260         8.50           0  \n",
       "23005561         7.50           0  \n",
       "...               ...         ...  \n",
       "23023814        53.05           0  \n",
       "23023834        15.19           0  \n",
       "23023835        19.82           0  \n",
       "23023867        17.95           0  \n",
       "23023932        30.08           0  \n",
       "\n",
       "[116802 rows x 6 columns]"
      ]
     },
     "execution_count": 27,
     "metadata": {},
     "output_type": "execute_result"
    }
   ],
   "source": [
    "df5.sort_values(\"passenger_count\")"
   ]
  },
  {
   "cell_type": "code",
   "execution_count": 28,
   "id": "a03de883-1540-4811-ba63-3f4b6e1e514d",
   "metadata": {},
   "outputs": [
    {
     "data": {
      "text/html": [
       "<div>\n",
       "<style scoped>\n",
       "    .dataframe tbody tr th:only-of-type {\n",
       "        vertical-align: middle;\n",
       "    }\n",
       "\n",
       "    .dataframe tbody tr th {\n",
       "        vertical-align: top;\n",
       "    }\n",
       "\n",
       "    .dataframe thead th {\n",
       "        text-align: right;\n",
       "    }\n",
       "</style>\n",
       "<table border=\"1\" class=\"dataframe\">\n",
       "  <thead>\n",
       "    <tr style=\"text-align: right;\">\n",
       "      <th></th>\n",
       "      <th>tpep_pickup_datetime</th>\n",
       "      <th>passenger_count</th>\n",
       "      <th>trip_distance</th>\n",
       "      <th>payment_type</th>\n",
       "      <th>fare_amount</th>\n",
       "      <th>fare_error</th>\n",
       "    </tr>\n",
       "  </thead>\n",
       "  <tbody>\n",
       "    <tr>\n",
       "      <th>22901413</th>\n",
       "      <td>2022-06-04 23:59:33</td>\n",
       "      <td>NaN</td>\n",
       "      <td>1.98</td>\n",
       "      <td>0</td>\n",
       "      <td>11.66</td>\n",
       "      <td>0</td>\n",
       "    </tr>\n",
       "    <tr>\n",
       "      <th>22901423</th>\n",
       "      <td>2022-06-04 23:59:27</td>\n",
       "      <td>NaN</td>\n",
       "      <td>6.15</td>\n",
       "      <td>0</td>\n",
       "      <td>26.33</td>\n",
       "      <td>0</td>\n",
       "    </tr>\n",
       "    <tr>\n",
       "      <th>22901444</th>\n",
       "      <td>2022-06-04 23:59:12</td>\n",
       "      <td>NaN</td>\n",
       "      <td>5.96</td>\n",
       "      <td>0</td>\n",
       "      <td>26.65</td>\n",
       "      <td>0</td>\n",
       "    </tr>\n",
       "    <tr>\n",
       "      <th>22901445</th>\n",
       "      <td>2022-06-04 23:59:12</td>\n",
       "      <td>NaN</td>\n",
       "      <td>1.91</td>\n",
       "      <td>0</td>\n",
       "      <td>13.38</td>\n",
       "      <td>0</td>\n",
       "    </tr>\n",
       "    <tr>\n",
       "      <th>22901458</th>\n",
       "      <td>2022-06-04 23:59:00</td>\n",
       "      <td>NaN</td>\n",
       "      <td>2.56</td>\n",
       "      <td>0</td>\n",
       "      <td>13.63</td>\n",
       "      <td>0</td>\n",
       "    </tr>\n",
       "    <tr>\n",
       "      <th>...</th>\n",
       "      <td>...</td>\n",
       "      <td>...</td>\n",
       "      <td>...</td>\n",
       "      <td>...</td>\n",
       "      <td>...</td>\n",
       "      <td>...</td>\n",
       "    </tr>\n",
       "    <tr>\n",
       "      <th>23023814</th>\n",
       "      <td>2022-06-04 00:01:11</td>\n",
       "      <td>NaN</td>\n",
       "      <td>16.55</td>\n",
       "      <td>0</td>\n",
       "      <td>53.05</td>\n",
       "      <td>0</td>\n",
       "    </tr>\n",
       "    <tr>\n",
       "      <th>23023834</th>\n",
       "      <td>2022-06-04 00:01:00</td>\n",
       "      <td>NaN</td>\n",
       "      <td>2.57</td>\n",
       "      <td>0</td>\n",
       "      <td>15.19</td>\n",
       "      <td>0</td>\n",
       "    </tr>\n",
       "    <tr>\n",
       "      <th>23023835</th>\n",
       "      <td>2022-06-04 00:01:00</td>\n",
       "      <td>NaN</td>\n",
       "      <td>3.58</td>\n",
       "      <td>0</td>\n",
       "      <td>19.82</td>\n",
       "      <td>0</td>\n",
       "    </tr>\n",
       "    <tr>\n",
       "      <th>23023867</th>\n",
       "      <td>2022-06-04 00:00:41</td>\n",
       "      <td>NaN</td>\n",
       "      <td>3.50</td>\n",
       "      <td>0</td>\n",
       "      <td>17.95</td>\n",
       "      <td>0</td>\n",
       "    </tr>\n",
       "    <tr>\n",
       "      <th>23023932</th>\n",
       "      <td>2022-06-04 00:00:00</td>\n",
       "      <td>NaN</td>\n",
       "      <td>7.38</td>\n",
       "      <td>0</td>\n",
       "      <td>30.08</td>\n",
       "      <td>0</td>\n",
       "    </tr>\n",
       "  </tbody>\n",
       "</table>\n",
       "<p>4055 rows × 6 columns</p>\n",
       "</div>"
      ],
      "text/plain": [
       "         tpep_pickup_datetime  passenger_count  trip_distance  payment_type  \\\n",
       "22901413  2022-06-04 23:59:33              NaN           1.98             0   \n",
       "22901423  2022-06-04 23:59:27              NaN           6.15             0   \n",
       "22901444  2022-06-04 23:59:12              NaN           5.96             0   \n",
       "22901445  2022-06-04 23:59:12              NaN           1.91             0   \n",
       "22901458  2022-06-04 23:59:00              NaN           2.56             0   \n",
       "...                       ...              ...            ...           ...   \n",
       "23023814  2022-06-04 00:01:11              NaN          16.55             0   \n",
       "23023834  2022-06-04 00:01:00              NaN           2.57             0   \n",
       "23023835  2022-06-04 00:01:00              NaN           3.58             0   \n",
       "23023867  2022-06-04 00:00:41              NaN           3.50             0   \n",
       "23023932  2022-06-04 00:00:00              NaN           7.38             0   \n",
       "\n",
       "          fare_amount  fare_error  \n",
       "22901413        11.66           0  \n",
       "22901423        26.33           0  \n",
       "22901444        26.65           0  \n",
       "22901445        13.38           0  \n",
       "22901458        13.63           0  \n",
       "...               ...         ...  \n",
       "23023814        53.05           0  \n",
       "23023834        15.19           0  \n",
       "23023835        19.82           0  \n",
       "23023867        17.95           0  \n",
       "23023932        30.08           0  \n",
       "\n",
       "[4055 rows x 6 columns]"
      ]
     },
     "execution_count": 28,
     "metadata": {},
     "output_type": "execute_result"
    }
   ],
   "source": [
    "missing_rows = df5[\"passenger_count\"].isna()\n",
    "df5[missing_rows]"
   ]
  },
  {
   "cell_type": "code",
   "execution_count": 29,
   "id": "067829e0-8b4e-4fe5-8d63-1f544268101c",
   "metadata": {},
   "outputs": [
    {
     "data": {
      "text/html": [
       "<div>\n",
       "<style scoped>\n",
       "    .dataframe tbody tr th:only-of-type {\n",
       "        vertical-align: middle;\n",
       "    }\n",
       "\n",
       "    .dataframe tbody tr th {\n",
       "        vertical-align: top;\n",
       "    }\n",
       "\n",
       "    .dataframe thead th {\n",
       "        text-align: right;\n",
       "    }\n",
       "</style>\n",
       "<table border=\"1\" class=\"dataframe\">\n",
       "  <thead>\n",
       "    <tr style=\"text-align: right;\">\n",
       "      <th></th>\n",
       "      <th>tpep_pickup_datetime</th>\n",
       "      <th>passenger_count</th>\n",
       "      <th>trip_distance</th>\n",
       "      <th>payment_type</th>\n",
       "      <th>fare_amount</th>\n",
       "      <th>fare_error</th>\n",
       "    </tr>\n",
       "  </thead>\n",
       "  <tbody>\n",
       "    <tr>\n",
       "      <th>22924262</th>\n",
       "      <td>2022-06-04 20:24:03</td>\n",
       "      <td>0.0</td>\n",
       "      <td>3.00</td>\n",
       "      <td>1</td>\n",
       "      <td>13.0</td>\n",
       "      <td>0</td>\n",
       "    </tr>\n",
       "    <tr>\n",
       "      <th>22928800</th>\n",
       "      <td>2022-06-04 19:43:39</td>\n",
       "      <td>0.0</td>\n",
       "      <td>0.80</td>\n",
       "      <td>1</td>\n",
       "      <td>6.0</td>\n",
       "      <td>0</td>\n",
       "    </tr>\n",
       "    <tr>\n",
       "      <th>22906827</th>\n",
       "      <td>2022-06-04 23:06:26</td>\n",
       "      <td>0.0</td>\n",
       "      <td>1.40</td>\n",
       "      <td>1</td>\n",
       "      <td>6.5</td>\n",
       "      <td>0</td>\n",
       "    </tr>\n",
       "    <tr>\n",
       "      <th>23001260</th>\n",
       "      <td>2022-06-04 09:08:44</td>\n",
       "      <td>0.0</td>\n",
       "      <td>1.90</td>\n",
       "      <td>2</td>\n",
       "      <td>8.5</td>\n",
       "      <td>0</td>\n",
       "    </tr>\n",
       "    <tr>\n",
       "      <th>23005561</th>\n",
       "      <td>2022-06-04 07:23:46</td>\n",
       "      <td>0.0</td>\n",
       "      <td>2.00</td>\n",
       "      <td>1</td>\n",
       "      <td>7.5</td>\n",
       "      <td>0</td>\n",
       "    </tr>\n",
       "    <tr>\n",
       "      <th>...</th>\n",
       "      <td>...</td>\n",
       "      <td>...</td>\n",
       "      <td>...</td>\n",
       "      <td>...</td>\n",
       "      <td>...</td>\n",
       "      <td>...</td>\n",
       "    </tr>\n",
       "    <tr>\n",
       "      <th>23013498</th>\n",
       "      <td>2022-06-04 02:19:00</td>\n",
       "      <td>6.0</td>\n",
       "      <td>2.63</td>\n",
       "      <td>2</td>\n",
       "      <td>9.5</td>\n",
       "      <td>0</td>\n",
       "    </tr>\n",
       "    <tr>\n",
       "      <th>22929974</th>\n",
       "      <td>2022-06-04 19:34:23</td>\n",
       "      <td>6.0</td>\n",
       "      <td>10.50</td>\n",
       "      <td>1</td>\n",
       "      <td>32.0</td>\n",
       "      <td>0</td>\n",
       "    </tr>\n",
       "    <tr>\n",
       "      <th>22946271</th>\n",
       "      <td>2022-06-04 17:32:48</td>\n",
       "      <td>6.0</td>\n",
       "      <td>1.62</td>\n",
       "      <td>2</td>\n",
       "      <td>7.5</td>\n",
       "      <td>0</td>\n",
       "    </tr>\n",
       "    <tr>\n",
       "      <th>23007289</th>\n",
       "      <td>2022-06-04 05:59:06</td>\n",
       "      <td>6.0</td>\n",
       "      <td>4.30</td>\n",
       "      <td>1</td>\n",
       "      <td>15.5</td>\n",
       "      <td>0</td>\n",
       "    </tr>\n",
       "    <tr>\n",
       "      <th>22968559</th>\n",
       "      <td>2022-06-04 14:31:34</td>\n",
       "      <td>6.0</td>\n",
       "      <td>0.59</td>\n",
       "      <td>1</td>\n",
       "      <td>4.0</td>\n",
       "      <td>0</td>\n",
       "    </tr>\n",
       "  </tbody>\n",
       "</table>\n",
       "<p>112747 rows × 6 columns</p>\n",
       "</div>"
      ],
      "text/plain": [
       "         tpep_pickup_datetime  passenger_count  trip_distance  payment_type  \\\n",
       "22924262  2022-06-04 20:24:03              0.0           3.00             1   \n",
       "22928800  2022-06-04 19:43:39              0.0           0.80             1   \n",
       "22906827  2022-06-04 23:06:26              0.0           1.40             1   \n",
       "23001260  2022-06-04 09:08:44              0.0           1.90             2   \n",
       "23005561  2022-06-04 07:23:46              0.0           2.00             1   \n",
       "...                       ...              ...            ...           ...   \n",
       "23013498  2022-06-04 02:19:00              6.0           2.63             2   \n",
       "22929974  2022-06-04 19:34:23              6.0          10.50             1   \n",
       "22946271  2022-06-04 17:32:48              6.0           1.62             2   \n",
       "23007289  2022-06-04 05:59:06              6.0           4.30             1   \n",
       "22968559  2022-06-04 14:31:34              6.0           0.59             1   \n",
       "\n",
       "          fare_amount  fare_error  \n",
       "22924262         13.0           0  \n",
       "22928800          6.0           0  \n",
       "22906827          6.5           0  \n",
       "23001260          8.5           0  \n",
       "23005561          7.5           0  \n",
       "...               ...         ...  \n",
       "23013498          9.5           0  \n",
       "22929974         32.0           0  \n",
       "22946271          7.5           0  \n",
       "23007289         15.5           0  \n",
       "22968559          4.0           0  \n",
       "\n",
       "[112747 rows x 6 columns]"
      ]
     },
     "execution_count": 29,
     "metadata": {},
     "output_type": "execute_result"
    }
   ],
   "source": [
    "df5 = df5[~missing_rows]\n",
    "df5.sort_values(\"passenger_count\")"
   ]
  },
  {
   "cell_type": "code",
   "execution_count": 30,
   "id": "af9c0bb2-0a8e-4fc0-b995-99a9ac148bea",
   "metadata": {},
   "outputs": [],
   "source": [
    "df5 = df5.drop(df5[df5['passenger_count'] < 1 ].index)"
   ]
  },
  {
   "cell_type": "code",
   "execution_count": 31,
   "id": "8fcb73f5-6c14-4ab6-bdbf-d93f204556ef",
   "metadata": {},
   "outputs": [
    {
     "data": {
      "text/html": [
       "<div>\n",
       "<style scoped>\n",
       "    .dataframe tbody tr th:only-of-type {\n",
       "        vertical-align: middle;\n",
       "    }\n",
       "\n",
       "    .dataframe tbody tr th {\n",
       "        vertical-align: top;\n",
       "    }\n",
       "\n",
       "    .dataframe thead th {\n",
       "        text-align: right;\n",
       "    }\n",
       "</style>\n",
       "<table border=\"1\" class=\"dataframe\">\n",
       "  <thead>\n",
       "    <tr style=\"text-align: right;\">\n",
       "      <th></th>\n",
       "      <th>tpep_pickup_datetime</th>\n",
       "      <th>passenger_count</th>\n",
       "      <th>trip_distance</th>\n",
       "      <th>payment_type</th>\n",
       "      <th>fare_amount</th>\n",
       "      <th>fare_error</th>\n",
       "    </tr>\n",
       "  </thead>\n",
       "  <tbody>\n",
       "    <tr>\n",
       "      <th>22962368</th>\n",
       "      <td>2022-06-04 15:22:24</td>\n",
       "      <td>1.0</td>\n",
       "      <td>0.68</td>\n",
       "      <td>1</td>\n",
       "      <td>5.0</td>\n",
       "      <td>0</td>\n",
       "    </tr>\n",
       "    <tr>\n",
       "      <th>22976703</th>\n",
       "      <td>2022-06-04 13:22:52</td>\n",
       "      <td>1.0</td>\n",
       "      <td>1.75</td>\n",
       "      <td>1</td>\n",
       "      <td>9.0</td>\n",
       "      <td>0</td>\n",
       "    </tr>\n",
       "    <tr>\n",
       "      <th>22976702</th>\n",
       "      <td>2022-06-04 13:22:53</td>\n",
       "      <td>1.0</td>\n",
       "      <td>1.80</td>\n",
       "      <td>1</td>\n",
       "      <td>11.5</td>\n",
       "      <td>0</td>\n",
       "    </tr>\n",
       "    <tr>\n",
       "      <th>22976700</th>\n",
       "      <td>2022-06-04 13:22:54</td>\n",
       "      <td>1.0</td>\n",
       "      <td>1.56</td>\n",
       "      <td>1</td>\n",
       "      <td>10.5</td>\n",
       "      <td>0</td>\n",
       "    </tr>\n",
       "    <tr>\n",
       "      <th>22976698</th>\n",
       "      <td>2022-06-04 13:22:55</td>\n",
       "      <td>1.0</td>\n",
       "      <td>2.30</td>\n",
       "      <td>2</td>\n",
       "      <td>12.0</td>\n",
       "      <td>0</td>\n",
       "    </tr>\n",
       "    <tr>\n",
       "      <th>...</th>\n",
       "      <td>...</td>\n",
       "      <td>...</td>\n",
       "      <td>...</td>\n",
       "      <td>...</td>\n",
       "      <td>...</td>\n",
       "      <td>...</td>\n",
       "    </tr>\n",
       "    <tr>\n",
       "      <th>22963871</th>\n",
       "      <td>2022-06-04 15:10:15</td>\n",
       "      <td>6.0</td>\n",
       "      <td>3.42</td>\n",
       "      <td>1</td>\n",
       "      <td>17.5</td>\n",
       "      <td>0</td>\n",
       "    </tr>\n",
       "    <tr>\n",
       "      <th>23011571</th>\n",
       "      <td>2022-06-04 02:54:47</td>\n",
       "      <td>6.0</td>\n",
       "      <td>1.07</td>\n",
       "      <td>1</td>\n",
       "      <td>6.0</td>\n",
       "      <td>0</td>\n",
       "    </tr>\n",
       "    <tr>\n",
       "      <th>22956097</th>\n",
       "      <td>2022-06-04 16:14:53</td>\n",
       "      <td>6.0</td>\n",
       "      <td>1.35</td>\n",
       "      <td>1</td>\n",
       "      <td>8.0</td>\n",
       "      <td>0</td>\n",
       "    </tr>\n",
       "    <tr>\n",
       "      <th>22941553</th>\n",
       "      <td>2022-06-04 18:07:40</td>\n",
       "      <td>6.0</td>\n",
       "      <td>1.96</td>\n",
       "      <td>1</td>\n",
       "      <td>9.5</td>\n",
       "      <td>0</td>\n",
       "    </tr>\n",
       "    <tr>\n",
       "      <th>22905153</th>\n",
       "      <td>2022-06-04 23:22:07</td>\n",
       "      <td>6.0</td>\n",
       "      <td>3.50</td>\n",
       "      <td>1</td>\n",
       "      <td>14.0</td>\n",
       "      <td>0</td>\n",
       "    </tr>\n",
       "  </tbody>\n",
       "</table>\n",
       "<p>110472 rows × 6 columns</p>\n",
       "</div>"
      ],
      "text/plain": [
       "         tpep_pickup_datetime  passenger_count  trip_distance  payment_type  \\\n",
       "22962368  2022-06-04 15:22:24              1.0           0.68             1   \n",
       "22976703  2022-06-04 13:22:52              1.0           1.75             1   \n",
       "22976702  2022-06-04 13:22:53              1.0           1.80             1   \n",
       "22976700  2022-06-04 13:22:54              1.0           1.56             1   \n",
       "22976698  2022-06-04 13:22:55              1.0           2.30             2   \n",
       "...                       ...              ...            ...           ...   \n",
       "22963871  2022-06-04 15:10:15              6.0           3.42             1   \n",
       "23011571  2022-06-04 02:54:47              6.0           1.07             1   \n",
       "22956097  2022-06-04 16:14:53              6.0           1.35             1   \n",
       "22941553  2022-06-04 18:07:40              6.0           1.96             1   \n",
       "22905153  2022-06-04 23:22:07              6.0           3.50             1   \n",
       "\n",
       "          fare_amount  fare_error  \n",
       "22962368          5.0           0  \n",
       "22976703          9.0           0  \n",
       "22976702         11.5           0  \n",
       "22976700         10.5           0  \n",
       "22976698         12.0           0  \n",
       "...               ...         ...  \n",
       "22963871         17.5           0  \n",
       "23011571          6.0           0  \n",
       "22956097          8.0           0  \n",
       "22941553          9.5           0  \n",
       "22905153         14.0           0  \n",
       "\n",
       "[110472 rows x 6 columns]"
      ]
     },
     "execution_count": 31,
     "metadata": {},
     "output_type": "execute_result"
    }
   ],
   "source": [
    "df5.sort_values(\"passenger_count\")"
   ]
  },
  {
   "cell_type": "markdown",
   "id": "10d08bd7-2946-4806-8fad-7427f94db5f3",
   "metadata": {},
   "source": [
    "### Payment type\n",
    "\n",
    "#### payment method: 1= Credit card, 2= Cash, 3= No charge, 4= Dispute, 5= Unknown, 6= Voided"
   ]
  },
  {
   "cell_type": "markdown",
   "id": "81e69181-576f-4930-8310-19e2d3bdc746",
   "metadata": {},
   "source": [
    "# Step 6: single variable distribution plots"
   ]
  },
  {
   "cell_type": "code",
   "execution_count": 34,
   "id": "ca24c899-489b-4450-91fa-a461f01243f0",
   "metadata": {},
   "outputs": [],
   "source": [
    "#sns.pairplot(data = df5)"
   ]
  },
  {
   "cell_type": "code",
   "execution_count": 35,
   "id": "53219b60-0f11-4fb9-a07d-23aa9166ccfb",
   "metadata": {},
   "outputs": [
    {
     "data": {
      "text/plain": [
       "Text(0, 0.5, 'Frequency')"
      ]
     },
     "execution_count": 35,
     "metadata": {},
     "output_type": "execute_result"
    },
    {
     "data": {
      "image/png": "[encoded data removed]",
      "text/plain": [
       "<Figure size 640x480 with 1 Axes>"
      ]
     },
     "metadata": {},
     "output_type": "display_data"
    }
   ],
   "source": [
    "df5[\"payment_type\"].hist(bins=20)\n",
    "plt.title(\"NYC Yellow Taxi Payment types per trip\")\n",
    "plt.xlabel(\"Payment types\")\n",
    "plt.ylabel(\"Frequency\")"
   ]
  },
  {
   "cell_type": "code",
   "execution_count": 36,
   "id": "7afa3859-45af-4e2f-a2cc-63ca36f94560",
   "metadata": {},
   "outputs": [
    {
     "data": {
      "text/plain": [
       "Text(0, 0.5, 'Frequency')"
      ]
     },
     "execution_count": 36,
     "metadata": {},
     "output_type": "execute_result"
    },
    {
     "data": {
      "image/png": "[encoded data removed]",
      "text/plain": [
       "<Figure size 640x480 with 1 Axes>"
      ]
     },
     "metadata": {},
     "output_type": "display_data"
    }
   ],
   "source": [
    "df5[\"passenger_count\"].hist()\n",
    "plt.title(\"Number Of Passengers in NYC Yellow Taxi Per Trip \")\n",
    "plt.xlabel(\"Number of Passengers\")\n",
    "plt.ylabel(\"Frequency\")"
   ]
  },
  {
   "cell_type": "code",
   "execution_count": 37,
   "id": "c5d614ba-fb66-495c-82a7-c60e0a825c09",
   "metadata": {},
   "outputs": [
    {
     "data": {
      "text/plain": [
       "Text(0, 0.5, 'Fare $')"
      ]
     },
     "execution_count": 37,
     "metadata": {},
     "output_type": "execute_result"
    },
    {
     "data": {
      "image/png": "[encoded data removed]",
      "text/plain": [
       "<Figure size 640x480 with 1 Axes>"
      ]
     },
     "metadata": {},
     "output_type": "display_data"
    }
   ],
   "source": [
    "df5[\"fare_amount\"].plot()\n",
    "plt.title(\"NYC Yellow Taxi Fare Amount Paid\")\n",
    "plt.xlabel(\"Frequency\")\n",
    "plt.ylabel(\"Fare $\")"
   ]
  },
  {
   "cell_type": "code",
   "execution_count": 38,
   "id": "872d94e1-d034-4e29-957d-aaea1ebae5c0",
   "metadata": {},
   "outputs": [
    {
     "data": {
      "text/plain": [
       "Text(0, 0.5, 'Distance in Miles')"
      ]
     },
     "execution_count": 38,
     "metadata": {},
     "output_type": "execute_result"
    },
    {
     "data": {
      "image/png": "[encoded data removed]",
      "text/plain": [
       "<Figure size 640x480 with 1 Axes>"
      ]
     },
     "metadata": {},
     "output_type": "display_data"
    }
   ],
   "source": [
    "df5[\"trip_distance\"].plot()\n",
    "plt.title(\"NYC Yellow Taxi Trips Distance\")\n",
    "plt.xlabel(\"Frequency\")\n",
    "plt.ylabel(\"Distance in Miles\")"
   ]
  },
  {
   "cell_type": "markdown",
   "id": "cb52cc50-d310-451e-9e9d-ba83e2eef433",
   "metadata": {},
   "source": [
    "# Step 7: multiple variable plots"
   ]
  },
  {
   "cell_type": "code",
   "execution_count": 40,
   "id": "cc4166ef-da20-44b2-95a0-4be4b82b493a",
   "metadata": {},
   "outputs": [
    {
     "data": {
      "text/plain": [
       "Text(0, 0.5, 'Fare Amount $')"
      ]
     },
     "execution_count": 40,
     "metadata": {},
     "output_type": "execute_result"
    },
    {
     "data": {
      "image/png": "[encoded data removed]",
      "text/plain": [
       "<Figure size 640x480 with 1 Axes>"
      ]
     },
     "metadata": {},
     "output_type": "display_data"
    }
   ],
   "source": [
    "sns.scatterplot(x = \"trip_distance\", y = \"fare_amount\", data = df5)\n",
    "plt.title(\"NYC Yellow Taxi Fare & Distance Relationship\")\n",
    "plt.xlabel(\"Trip Distance\")\n",
    "plt.ylabel(\"Fare Amount $\")"
   ]
  },
  {
   "cell_type": "code",
   "execution_count": 41,
   "id": "82ac8cd7-af8d-4f0b-91c0-52724f22d03c",
   "metadata": {},
   "outputs": [
    {
     "data": {
      "text/plain": [
       "Text(0, 0.5, 'Fare Amount $')"
      ]
     },
     "execution_count": 41,
     "metadata": {},
     "output_type": "execute_result"
    },
    {
     "data": {
      "image/png": "[encoded data removed]",
      "text/plain": [
       "<Figure size 640x480 with 1 Axes>"
      ]
     },
     "metadata": {},
     "output_type": "display_data"
    }
   ],
   "source": [
    "df5.plot(x = \"tpep_pickup_datetime\", y = \"fare_amount\")\n",
    "plt.title(\"NYC Yellow Taxi Pick UP Time & Fare Relationship\")\n",
    "plt.xlabel(\"Pick Up Time\")\n",
    "plt.ylabel(\"Fare Amount $\")"
   ]
  },
  {
   "cell_type": "markdown",
   "id": "bddb9291-4056-4c99-aca8-c3ca6061299f",
   "metadata": {},
   "source": [
    "# Milestone #2"
   ]
  },
  {
   "cell_type": "code",
   "execution_count": 58,
   "id": "4b0a7f25-ff66-48a4-85b5-634f7d7e8b2f",
   "metadata": {},
   "outputs": [],
   "source": [
    "from sklearn.model_selection import train_test_split\n",
    "\n",
    "from sklearn.tree import DecisionTreeRegressor\n",
    "from sklearn.tree import export_graphviz\n",
    "\n",
    "from sklearn.metrics import confusion_matrix\n",
    "from sklearn.metrics import mean_squared_error\n",
    "\n",
    "from sklearn.linear_model import LinearRegression"
   ]
  },
  {
   "cell_type": "markdown",
   "id": "6de727ab-bfd2-43a5-ab45-b9917ba2998a",
   "metadata": {},
   "source": [
    "# Step 8: model 1"
   ]
  },
  {
   "cell_type": "markdown",
   "id": "8c6e9ba0-c252-41f6-94ea-bfefda42ea7c",
   "metadata": {},
   "source": [
    "## a.\n",
    "- Choose a column in your dataset to predict using some or all of the other columns.. This can either be a quantitative column to perform regression on, or a qualitative column to perform classification on."
   ]
  },
  {
   "cell_type": "markdown",
   "id": "15e97154-518f-41fd-84a1-86640d920056",
   "metadata": {},
   "source": [
    "### Decision Tree Regression model"
   ]
  },
  {
   "cell_type": "code",
   "execution_count": null,
   "id": "7eb49e5d-4da0-429b-8b85-b584616f3136",
   "metadata": {},
   "outputs": [],
   "source": []
  },
  {
   "cell_type": "code",
   "execution_count": 45,
   "id": "31123fc8-c492-4ed4-8776-e91cee5d1744",
   "metadata": {},
   "outputs": [
    {
     "data": {
      "text/html": [
       "<div>\n",
       "<style scoped>\n",
       "    .dataframe tbody tr th:only-of-type {\n",
       "        vertical-align: middle;\n",
       "    }\n",
       "\n",
       "    .dataframe tbody tr th {\n",
       "        vertical-align: top;\n",
       "    }\n",
       "\n",
       "    .dataframe thead th {\n",
       "        text-align: right;\n",
       "    }\n",
       "</style>\n",
       "<table border=\"1\" class=\"dataframe\">\n",
       "  <thead>\n",
       "    <tr style=\"text-align: right;\">\n",
       "      <th></th>\n",
       "      <th>tpep_pickup_datetime</th>\n",
       "      <th>passenger_count</th>\n",
       "      <th>trip_distance</th>\n",
       "      <th>payment_type</th>\n",
       "      <th>fare_amount</th>\n",
       "      <th>fare_error</th>\n",
       "    </tr>\n",
       "  </thead>\n",
       "  <tbody>\n",
       "    <tr>\n",
       "      <th>22901374</th>\n",
       "      <td>2022-06-04 23:59:59</td>\n",
       "      <td>5.0</td>\n",
       "      <td>1.34</td>\n",
       "      <td>1</td>\n",
       "      <td>9.5</td>\n",
       "      <td>0</td>\n",
       "    </tr>\n",
       "    <tr>\n",
       "      <th>22901375</th>\n",
       "      <td>2022-06-04 23:59:59</td>\n",
       "      <td>1.0</td>\n",
       "      <td>1.01</td>\n",
       "      <td>2</td>\n",
       "      <td>6.0</td>\n",
       "      <td>0</td>\n",
       "    </tr>\n",
       "    <tr>\n",
       "      <th>22901376</th>\n",
       "      <td>2022-06-04 23:59:56</td>\n",
       "      <td>1.0</td>\n",
       "      <td>4.30</td>\n",
       "      <td>1</td>\n",
       "      <td>20.5</td>\n",
       "      <td>0</td>\n",
       "    </tr>\n",
       "    <tr>\n",
       "      <th>22901377</th>\n",
       "      <td>2022-06-04 23:59:55</td>\n",
       "      <td>1.0</td>\n",
       "      <td>1.54</td>\n",
       "      <td>2</td>\n",
       "      <td>8.5</td>\n",
       "      <td>0</td>\n",
       "    </tr>\n",
       "    <tr>\n",
       "      <th>22901378</th>\n",
       "      <td>2022-06-04 23:59:54</td>\n",
       "      <td>1.0</td>\n",
       "      <td>1.57</td>\n",
       "      <td>1</td>\n",
       "      <td>7.5</td>\n",
       "      <td>0</td>\n",
       "    </tr>\n",
       "    <tr>\n",
       "      <th>...</th>\n",
       "      <td>...</td>\n",
       "      <td>...</td>\n",
       "      <td>...</td>\n",
       "      <td>...</td>\n",
       "      <td>...</td>\n",
       "      <td>...</td>\n",
       "    </tr>\n",
       "    <tr>\n",
       "      <th>23023933</th>\n",
       "      <td>2022-06-04 00:00:00</td>\n",
       "      <td>2.0</td>\n",
       "      <td>16.96</td>\n",
       "      <td>2</td>\n",
       "      <td>52.0</td>\n",
       "      <td>0</td>\n",
       "    </tr>\n",
       "    <tr>\n",
       "      <th>23023934</th>\n",
       "      <td>2022-06-04 00:00:00</td>\n",
       "      <td>4.0</td>\n",
       "      <td>1.22</td>\n",
       "      <td>1</td>\n",
       "      <td>7.0</td>\n",
       "      <td>0</td>\n",
       "    </tr>\n",
       "    <tr>\n",
       "      <th>23023935</th>\n",
       "      <td>2022-06-04 00:00:00</td>\n",
       "      <td>1.0</td>\n",
       "      <td>4.52</td>\n",
       "      <td>2</td>\n",
       "      <td>15.5</td>\n",
       "      <td>0</td>\n",
       "    </tr>\n",
       "    <tr>\n",
       "      <th>23023936</th>\n",
       "      <td>2022-06-04 00:00:00</td>\n",
       "      <td>2.0</td>\n",
       "      <td>3.30</td>\n",
       "      <td>1</td>\n",
       "      <td>13.0</td>\n",
       "      <td>0</td>\n",
       "    </tr>\n",
       "    <tr>\n",
       "      <th>23023937</th>\n",
       "      <td>2022-06-04 00:00:00</td>\n",
       "      <td>1.0</td>\n",
       "      <td>3.12</td>\n",
       "      <td>1</td>\n",
       "      <td>13.0</td>\n",
       "      <td>0</td>\n",
       "    </tr>\n",
       "  </tbody>\n",
       "</table>\n",
       "<p>110472 rows × 6 columns</p>\n",
       "</div>"
      ],
      "text/plain": [
       "         tpep_pickup_datetime  passenger_count  trip_distance  payment_type  \\\n",
       "22901374  2022-06-04 23:59:59              5.0           1.34             1   \n",
       "22901375  2022-06-04 23:59:59              1.0           1.01             2   \n",
       "22901376  2022-06-04 23:59:56              1.0           4.30             1   \n",
       "22901377  2022-06-04 23:59:55              1.0           1.54             2   \n",
       "22901378  2022-06-04 23:59:54              1.0           1.57             1   \n",
       "...                       ...              ...            ...           ...   \n",
       "23023933  2022-06-04 00:00:00              2.0          16.96             2   \n",
       "23023934  2022-06-04 00:00:00              4.0           1.22             1   \n",
       "23023935  2022-06-04 00:00:00              1.0           4.52             2   \n",
       "23023936  2022-06-04 00:00:00              2.0           3.30             1   \n",
       "23023937  2022-06-04 00:00:00              1.0           3.12             1   \n",
       "\n",
       "          fare_amount  fare_error  \n",
       "22901374          9.5           0  \n",
       "22901375          6.0           0  \n",
       "22901376         20.5           0  \n",
       "22901377          8.5           0  \n",
       "22901378          7.5           0  \n",
       "...               ...         ...  \n",
       "23023933         52.0           0  \n",
       "23023934          7.0           0  \n",
       "23023935         15.5           0  \n",
       "23023936         13.0           0  \n",
       "23023937         13.0           0  \n",
       "\n",
       "[110472 rows x 6 columns]"
      ]
     },
     "execution_count": 45,
     "metadata": {},
     "output_type": "execute_result"
    }
   ],
   "source": [
    "df5"
   ]
  },
  {
   "cell_type": "code",
   "execution_count": 66,
   "id": "30d66c89-38b7-44df-ad5b-17b8d419d17d",
   "metadata": {},
   "outputs": [
    {
     "data": {
      "text/html": [
       "<div>\n",
       "<style scoped>\n",
       "    .dataframe tbody tr th:only-of-type {\n",
       "        vertical-align: middle;\n",
       "    }\n",
       "\n",
       "    .dataframe tbody tr th {\n",
       "        vertical-align: top;\n",
       "    }\n",
       "\n",
       "    .dataframe thead th {\n",
       "        text-align: right;\n",
       "    }\n",
       "</style>\n",
       "<table border=\"1\" class=\"dataframe\">\n",
       "  <thead>\n",
       "    <tr style=\"text-align: right;\">\n",
       "      <th></th>\n",
       "      <th>passenger_count</th>\n",
       "      <th>trip_distance</th>\n",
       "      <th>payment_type</th>\n",
       "      <th>fare_error</th>\n",
       "    </tr>\n",
       "  </thead>\n",
       "  <tbody>\n",
       "    <tr>\n",
       "      <th>22901374</th>\n",
       "      <td>5.0</td>\n",
       "      <td>1.34</td>\n",
       "      <td>1</td>\n",
       "      <td>0</td>\n",
       "    </tr>\n",
       "    <tr>\n",
       "      <th>22901375</th>\n",
       "      <td>1.0</td>\n",
       "      <td>1.01</td>\n",
       "      <td>2</td>\n",
       "      <td>0</td>\n",
       "    </tr>\n",
       "    <tr>\n",
       "      <th>22901376</th>\n",
       "      <td>1.0</td>\n",
       "      <td>4.30</td>\n",
       "      <td>1</td>\n",
       "      <td>0</td>\n",
       "    </tr>\n",
       "    <tr>\n",
       "      <th>22901377</th>\n",
       "      <td>1.0</td>\n",
       "      <td>1.54</td>\n",
       "      <td>2</td>\n",
       "      <td>0</td>\n",
       "    </tr>\n",
       "    <tr>\n",
       "      <th>22901378</th>\n",
       "      <td>1.0</td>\n",
       "      <td>1.57</td>\n",
       "      <td>1</td>\n",
       "      <td>0</td>\n",
       "    </tr>\n",
       "    <tr>\n",
       "      <th>...</th>\n",
       "      <td>...</td>\n",
       "      <td>...</td>\n",
       "      <td>...</td>\n",
       "      <td>...</td>\n",
       "    </tr>\n",
       "    <tr>\n",
       "      <th>23023933</th>\n",
       "      <td>2.0</td>\n",
       "      <td>16.96</td>\n",
       "      <td>2</td>\n",
       "      <td>0</td>\n",
       "    </tr>\n",
       "    <tr>\n",
       "      <th>23023934</th>\n",
       "      <td>4.0</td>\n",
       "      <td>1.22</td>\n",
       "      <td>1</td>\n",
       "      <td>0</td>\n",
       "    </tr>\n",
       "    <tr>\n",
       "      <th>23023935</th>\n",
       "      <td>1.0</td>\n",
       "      <td>4.52</td>\n",
       "      <td>2</td>\n",
       "      <td>0</td>\n",
       "    </tr>\n",
       "    <tr>\n",
       "      <th>23023936</th>\n",
       "      <td>2.0</td>\n",
       "      <td>3.30</td>\n",
       "      <td>1</td>\n",
       "      <td>0</td>\n",
       "    </tr>\n",
       "    <tr>\n",
       "      <th>23023937</th>\n",
       "      <td>1.0</td>\n",
       "      <td>3.12</td>\n",
       "      <td>1</td>\n",
       "      <td>0</td>\n",
       "    </tr>\n",
       "  </tbody>\n",
       "</table>\n",
       "<p>110472 rows × 4 columns</p>\n",
       "</div>"
      ],
      "text/plain": [
       "          passenger_count  trip_distance  payment_type  fare_error\n",
       "22901374              5.0           1.34             1           0\n",
       "22901375              1.0           1.01             2           0\n",
       "22901376              1.0           4.30             1           0\n",
       "22901377              1.0           1.54             2           0\n",
       "22901378              1.0           1.57             1           0\n",
       "...                   ...            ...           ...         ...\n",
       "23023933              2.0          16.96             2           0\n",
       "23023934              4.0           1.22             1           0\n",
       "23023935              1.0           4.52             2           0\n",
       "23023936              2.0           3.30             1           0\n",
       "23023937              1.0           3.12             1           0\n",
       "\n",
       "[110472 rows x 4 columns]"
      ]
     },
     "execution_count": 66,
     "metadata": {},
     "output_type": "execute_result"
    }
   ],
   "source": [
    "x = df5.drop(columns = [\"fare_amount\", \"tpep_pickup_datetime\"])\n",
    "x"
   ]
  },
  {
   "cell_type": "code",
   "execution_count": 50,
   "id": "34e5822f-6849-441f-a080-d258ba029c1c",
   "metadata": {},
   "outputs": [
    {
     "data": {
      "text/plain": [
       "22901374     9.5\n",
       "22901375     6.0\n",
       "22901376    20.5\n",
       "22901377     8.5\n",
       "22901378     7.5\n",
       "            ... \n",
       "23023933    52.0\n",
       "23023934     7.0\n",
       "23023935    15.5\n",
       "23023936    13.0\n",
       "23023937    13.0\n",
       "Name: fare_amount, Length: 110472, dtype: float64"
      ]
     },
     "execution_count": 50,
     "metadata": {},
     "output_type": "execute_result"
    }
   ],
   "source": [
    "y = df5 [\"fare_amount\"]\n",
    "y"
   ]
  },
  {
   "cell_type": "code",
   "execution_count": 68,
   "id": "27e6e18e-bf18-47ab-8323-3aa42fb3fdc8",
   "metadata": {},
   "outputs": [
    {
     "data": {
      "text/html": [
       "<style>#sk-container-id-1 {color: black;}#sk-container-id-1 pre{padding: 0;}#sk-container-id-1 div.sk-toggleable {background-color: white;}#sk-container-id-1 label.sk-toggleable__label {cursor: pointer;display: block;width: 100%;margin-bottom: 0;padding: 0.3em;box-sizing: border-box;text-align: center;}#sk-container-id-1 label.sk-toggleable__label-arrow:before {content: \"▸\";float: left;margin-right: 0.25em;color: #696969;}#sk-container-id-1 label.sk-toggleable__label-arrow:hover:before {color: black;}#sk-container-id-1 div.sk-estimator:hover label.sk-toggleable__label-arrow:before {color: black;}#sk-container-id-1 div.sk-toggleable__content {max-height: 0;max-width: 0;overflow: hidden;text-align: left;background-color: #f0f8ff;}#sk-container-id-1 div.sk-toggleable__content pre {margin: 0.2em;color: black;border-radius: 0.25em;background-color: #f0f8ff;}#sk-container-id-1 input.sk-toggleable__control:checked~div.sk-toggleable__content {max-height: 200px;max-width: 100%;overflow: auto;}#sk-container-id-1 input.sk-toggleable__control:checked~label.sk-toggleable__label-arrow:before {content: \"▾\";}#sk-container-id-1 div.sk-estimator input.sk-toggleable__control:checked~label.sk-toggleable__label {background-color: #d4ebff;}#sk-container-id-1 div.sk-label input.sk-toggleable__control:checked~label.sk-toggleable__label {background-color: #d4ebff;}#sk-container-id-1 input.sk-hidden--visually {border: 0;clip: rect(1px 1px 1px 1px);clip: rect(1px, 1px, 1px, 1px);height: 1px;margin: -1px;overflow: hidden;padding: 0;position: absolute;width: 1px;}#sk-container-id-1 div.sk-estimator {font-family: monospace;background-color: #f0f8ff;border: 1px dotted black;border-radius: 0.25em;box-sizing: border-box;margin-bottom: 0.5em;}#sk-container-id-1 div.sk-estimator:hover {background-color: #d4ebff;}#sk-container-id-1 div.sk-parallel-item::after {content: \"\";width: 100%;border-bottom: 1px solid gray;flex-grow: 1;}#sk-container-id-1 div.sk-label:hover label.sk-toggleable__label {background-color: #d4ebff;}#sk-container-id-1 div.sk-serial::before {content: \"\";position: absolute;border-left: 1px solid gray;box-sizing: border-box;top: 0;bottom: 0;left: 50%;z-index: 0;}#sk-container-id-1 div.sk-serial {display: flex;flex-direction: column;align-items: center;background-color: white;padding-right: 0.2em;padding-left: 0.2em;position: relative;}#sk-container-id-1 div.sk-item {position: relative;z-index: 1;}#sk-container-id-1 div.sk-parallel {display: flex;align-items: stretch;justify-content: center;background-color: white;position: relative;}#sk-container-id-1 div.sk-item::before, #sk-container-id-1 div.sk-parallel-item::before {content: \"\";position: absolute;border-left: 1px solid gray;box-sizing: border-box;top: 0;bottom: 0;left: 50%;z-index: -1;}#sk-container-id-1 div.sk-parallel-item {display: flex;flex-direction: column;z-index: 1;position: relative;background-color: white;}#sk-container-id-1 div.sk-parallel-item:first-child::after {align-self: flex-end;width: 50%;}#sk-container-id-1 div.sk-parallel-item:last-child::after {align-self: flex-start;width: 50%;}#sk-container-id-1 div.sk-parallel-item:only-child::after {width: 0;}#sk-container-id-1 div.sk-dashed-wrapped {border: 1px dashed gray;margin: 0 0.4em 0.5em 0.4em;box-sizing: border-box;padding-bottom: 0.4em;background-color: white;}#sk-container-id-1 div.sk-label label {font-family: monospace;font-weight: bold;display: inline-block;line-height: 1.2em;}#sk-container-id-1 div.sk-label-container {text-align: center;}#sk-container-id-1 div.sk-container {/* jupyter's `normalize.less` sets `[hidden] { display: none; }` but bootstrap.min.css set `[hidden] { display: none !important; }` so we also need the `!important` here to be able to override the default hidden behavior on the sphinx rendered scikit-learn.org. See: https://github.com/scikit-learn/scikit-learn/issues/21755 */display: inline-block !important;position: relative;}#sk-container-id-1 div.sk-text-repr-fallback {display: none;}</style><div id=\"sk-container-id-1\" class=\"sk-top-container\"><div class=\"sk-text-repr-fallback\"><pre>DecisionTreeRegressor(max_depth=3)</pre><b>In a Jupyter environment, please rerun this cell to show the HTML representation or trust the notebook. <br />On GitHub, the HTML representation is unable to render, please try loading this page with nbviewer.org.</b></div><div class=\"sk-container\" hidden><div class=\"sk-item\"><div class=\"sk-estimator sk-toggleable\"><input class=\"sk-toggleable__control sk-hidden--visually\" id=\"sk-estimator-id-1\" type=\"checkbox\" checked><label for=\"sk-estimator-id-1\" class=\"sk-toggleable__label sk-toggleable__label-arrow\">DecisionTreeRegressor</label><div class=\"sk-toggleable__content\"><pre>DecisionTreeRegressor(max_depth=3)</pre></div></div></div></div></div>"
      ],
      "text/plain": [
       "DecisionTreeRegressor(max_depth=3)"
      ]
     },
     "execution_count": 68,
     "metadata": {},
     "output_type": "execute_result"
    }
   ],
   "source": [
    "model = DecisionTreeRegressor(max_depth = 3)\n",
    "model.fit(x, y)"
   ]
  },
  {
   "cell_type": "code",
   "execution_count": 71,
   "id": "de28f6fa-b0ff-4adb-a982-9e7d98966cac",
   "metadata": {},
   "outputs": [],
   "source": [
    "from sklearn.tree import plot_tree"
   ]
  },
  {
   "cell_type": "code",
   "execution_count": 73,
   "id": "f1ea4de2-5a02-4e28-90ae-b34c8b42e0ee",
   "metadata": {},
   "outputs": [
    {
     "data": {
      "text/plain": [
       "Index(['passenger_count', 'trip_distance', 'payment_type', 'fare_error'], dtype='object')"
      ]
     },
     "execution_count": 73,
     "metadata": {},
     "output_type": "execute_result"
    }
   ],
   "source": [
    "x.columns"
   ]
  },
  {
   "cell_type": "code",
   "execution_count": 79,
   "id": "7359a013-fd11-4ae0-91e8-4c42760c32b8",
   "metadata": {},
   "outputs": [
    {
     "data": {
      "text/plain": [
       "[Text(0.5, 0.875, 'trip_distance <= 8.315\\nsquared_error = 151.558\\nsamples = 110472\\nvalue = 14.268'),\n",
       " Text(0.25, 0.625, 'trip_distance <= 2.905\\nsquared_error = 32.601\\nsamples = 99988\\nvalue = 11.08'),\n",
       " Text(0.125, 0.375, 'trip_distance <= 1.575\\nsquared_error = 10.386\\nsamples = 73566\\nvalue = 8.591'),\n",
       " Text(0.0625, 0.125, 'squared_error = 6.377\\nsamples = 39509\\nvalue = 6.806'),\n",
       " Text(0.1875, 0.125, 'squared_error = 7.055\\nsamples = 34057\\nvalue = 10.661'),\n",
       " Text(0.375, 0.375, 'trip_distance <= 4.885\\nsquared_error = 29.151\\nsamples = 26422\\nvalue = 18.012'),\n",
       " Text(0.3125, 0.125, 'squared_error = 13.997\\nsamples = 17559\\nvalue = 15.752'),\n",
       " Text(0.4375, 0.125, 'squared_error = 29.028\\nsamples = 8863\\nvalue = 22.488'),\n",
       " Text(0.75, 0.625, 'trip_distance <= 13.465\\nsquared_error = 265.04\\nsamples = 10484\\nvalue = 44.667'),\n",
       " Text(0.625, 0.375, 'trip_distance <= 10.965\\nsquared_error = 45.177\\nsamples = 4818\\nvalue = 33.168'),\n",
       " Text(0.5625, 0.125, 'squared_error = 32.285\\nsamples = 3283\\nvalue = 30.945'),\n",
       " Text(0.6875, 0.125, 'squared_error = 39.591\\nsamples = 1535\\nvalue = 37.921'),\n",
       " Text(0.875, 0.375, 'trip_distance <= 30.275\\nsquared_error = 243.941\\nsamples = 5666\\nvalue = 54.446'),\n",
       " Text(0.8125, 0.125, 'squared_error = 88.365\\nsamples = 5584\\nvalue = 53.196'),\n",
       " Text(0.9375, 0.125, 'squared_error = 3494.098\\nsamples = 82\\nvalue = 139.521')]"
      ]
     },
     "execution_count": 79,
     "metadata": {},
     "output_type": "execute_result"
    },
    {
     "data": {
      "image/png": "[encoded data removed]",
      "text/plain": [
       "<Figure size 1500x1500 with 1 Axes>"
      ]
     },
     "metadata": {},
     "output_type": "display_data"
    }
   ],
   "source": [
    "fig, axes = plt.subplots(nrows = 1,ncols = 1,figsize = (5,5), dpi=300)\n",
    "plot_tree(model, feature_names = ['passenger_count', 'trip_distance', 'payment_type', 'fare_error'])"
   ]
  },
  {
   "cell_type": "code",
   "execution_count": null,
   "id": "3825093c-bfc7-401d-900a-52b90b4f6d8c",
   "metadata": {},
   "outputs": [],
   "source": []
  },
  {
   "cell_type": "markdown",
   "id": "faf2fdf5-e64b-482d-a498-f05d495d4bf6",
   "metadata": {},
   "source": [
    " ## b.  \n",
    " #### - Prepare your data for machine learning:  split your data into training and testing data, and if necessary, create dummy variables or scale columns."
   ]
  },
  {
   "cell_type": "markdown",
   "id": "76df3fb6-0c73-4699-8853-1e6e1f8e49a5",
   "metadata": {},
   "source": [
    "##### Training and testing data"
   ]
  },
  {
   "cell_type": "code",
   "execution_count": 94,
   "id": "bae3cb5b-7cb8-40ea-b352-63b9c8c29dad",
   "metadata": {},
   "outputs": [],
   "source": [
    "x_train, x_test, y_train, y_test = train_test_split(x, y, test_size=0.2)"
   ]
  },
  {
   "cell_type": "code",
   "execution_count": 96,
   "id": "8f8d9bd2-1a13-4d6f-9ba3-49d5dc0a90eb",
   "metadata": {},
   "outputs": [
    {
     "data": {
      "text/html": [
       "<div>\n",
       "<style scoped>\n",
       "    .dataframe tbody tr th:only-of-type {\n",
       "        vertical-align: middle;\n",
       "    }\n",
       "\n",
       "    .dataframe tbody tr th {\n",
       "        vertical-align: top;\n",
       "    }\n",
       "\n",
       "    .dataframe thead th {\n",
       "        text-align: right;\n",
       "    }\n",
       "</style>\n",
       "<table border=\"1\" class=\"dataframe\">\n",
       "  <thead>\n",
       "    <tr style=\"text-align: right;\">\n",
       "      <th></th>\n",
       "      <th>passenger_count</th>\n",
       "      <th>trip_distance</th>\n",
       "      <th>payment_type</th>\n",
       "      <th>fare_error</th>\n",
       "    </tr>\n",
       "  </thead>\n",
       "  <tbody>\n",
       "    <tr>\n",
       "      <th>22948133</th>\n",
       "      <td>2.0</td>\n",
       "      <td>9.46</td>\n",
       "      <td>2</td>\n",
       "      <td>0</td>\n",
       "    </tr>\n",
       "    <tr>\n",
       "      <th>22902277</th>\n",
       "      <td>1.0</td>\n",
       "      <td>1.80</td>\n",
       "      <td>1</td>\n",
       "      <td>0</td>\n",
       "    </tr>\n",
       "    <tr>\n",
       "      <th>23008478</th>\n",
       "      <td>5.0</td>\n",
       "      <td>2.29</td>\n",
       "      <td>1</td>\n",
       "      <td>0</td>\n",
       "    </tr>\n",
       "    <tr>\n",
       "      <th>22992149</th>\n",
       "      <td>1.0</td>\n",
       "      <td>2.11</td>\n",
       "      <td>1</td>\n",
       "      <td>0</td>\n",
       "    </tr>\n",
       "    <tr>\n",
       "      <th>23000222</th>\n",
       "      <td>1.0</td>\n",
       "      <td>0.75</td>\n",
       "      <td>1</td>\n",
       "      <td>0</td>\n",
       "    </tr>\n",
       "    <tr>\n",
       "      <th>...</th>\n",
       "      <td>...</td>\n",
       "      <td>...</td>\n",
       "      <td>...</td>\n",
       "      <td>...</td>\n",
       "    </tr>\n",
       "    <tr>\n",
       "      <th>22908905</th>\n",
       "      <td>2.0</td>\n",
       "      <td>1.10</td>\n",
       "      <td>1</td>\n",
       "      <td>0</td>\n",
       "    </tr>\n",
       "    <tr>\n",
       "      <th>23015598</th>\n",
       "      <td>1.0</td>\n",
       "      <td>3.00</td>\n",
       "      <td>1</td>\n",
       "      <td>0</td>\n",
       "    </tr>\n",
       "    <tr>\n",
       "      <th>22919647</th>\n",
       "      <td>3.0</td>\n",
       "      <td>2.60</td>\n",
       "      <td>1</td>\n",
       "      <td>0</td>\n",
       "    </tr>\n",
       "    <tr>\n",
       "      <th>22907601</th>\n",
       "      <td>1.0</td>\n",
       "      <td>8.21</td>\n",
       "      <td>1</td>\n",
       "      <td>0</td>\n",
       "    </tr>\n",
       "    <tr>\n",
       "      <th>23004752</th>\n",
       "      <td>1.0</td>\n",
       "      <td>1.12</td>\n",
       "      <td>2</td>\n",
       "      <td>0</td>\n",
       "    </tr>\n",
       "  </tbody>\n",
       "</table>\n",
       "<p>88377 rows × 4 columns</p>\n",
       "</div>"
      ],
      "text/plain": [
       "          passenger_count  trip_distance  payment_type  fare_error\n",
       "22948133              2.0           9.46             2           0\n",
       "22902277              1.0           1.80             1           0\n",
       "23008478              5.0           2.29             1           0\n",
       "22992149              1.0           2.11             1           0\n",
       "23000222              1.0           0.75             1           0\n",
       "...                   ...            ...           ...         ...\n",
       "22908905              2.0           1.10             1           0\n",
       "23015598              1.0           3.00             1           0\n",
       "22919647              3.0           2.60             1           0\n",
       "22907601              1.0           8.21             1           0\n",
       "23004752              1.0           1.12             2           0\n",
       "\n",
       "[88377 rows x 4 columns]"
      ]
     },
     "execution_count": 96,
     "metadata": {},
     "output_type": "execute_result"
    }
   ],
   "source": [
    "x_train"
   ]
  },
  {
   "cell_type": "code",
   "execution_count": 98,
   "id": "f42763ad-0cda-454f-a334-3a206eb0aff9",
   "metadata": {},
   "outputs": [
    {
     "data": {
      "text/html": [
       "<div>\n",
       "<style scoped>\n",
       "    .dataframe tbody tr th:only-of-type {\n",
       "        vertical-align: middle;\n",
       "    }\n",
       "\n",
       "    .dataframe tbody tr th {\n",
       "        vertical-align: top;\n",
       "    }\n",
       "\n",
       "    .dataframe thead th {\n",
       "        text-align: right;\n",
       "    }\n",
       "</style>\n",
       "<table border=\"1\" class=\"dataframe\">\n",
       "  <thead>\n",
       "    <tr style=\"text-align: right;\">\n",
       "      <th></th>\n",
       "      <th>passenger_count</th>\n",
       "      <th>trip_distance</th>\n",
       "      <th>payment_type</th>\n",
       "      <th>fare_error</th>\n",
       "    </tr>\n",
       "  </thead>\n",
       "  <tbody>\n",
       "    <tr>\n",
       "      <th>22913717</th>\n",
       "      <td>2.0</td>\n",
       "      <td>1.66</td>\n",
       "      <td>1</td>\n",
       "      <td>0</td>\n",
       "    </tr>\n",
       "    <tr>\n",
       "      <th>22903213</th>\n",
       "      <td>1.0</td>\n",
       "      <td>11.15</td>\n",
       "      <td>1</td>\n",
       "      <td>0</td>\n",
       "    </tr>\n",
       "    <tr>\n",
       "      <th>22983709</th>\n",
       "      <td>1.0</td>\n",
       "      <td>2.24</td>\n",
       "      <td>2</td>\n",
       "      <td>0</td>\n",
       "    </tr>\n",
       "    <tr>\n",
       "      <th>22944743</th>\n",
       "      <td>1.0</td>\n",
       "      <td>2.43</td>\n",
       "      <td>1</td>\n",
       "      <td>0</td>\n",
       "    </tr>\n",
       "    <tr>\n",
       "      <th>22995396</th>\n",
       "      <td>1.0</td>\n",
       "      <td>2.40</td>\n",
       "      <td>1</td>\n",
       "      <td>0</td>\n",
       "    </tr>\n",
       "    <tr>\n",
       "      <th>...</th>\n",
       "      <td>...</td>\n",
       "      <td>...</td>\n",
       "      <td>...</td>\n",
       "      <td>...</td>\n",
       "    </tr>\n",
       "    <tr>\n",
       "      <th>22976220</th>\n",
       "      <td>1.0</td>\n",
       "      <td>0.64</td>\n",
       "      <td>1</td>\n",
       "      <td>0</td>\n",
       "    </tr>\n",
       "    <tr>\n",
       "      <th>22951252</th>\n",
       "      <td>1.0</td>\n",
       "      <td>0.93</td>\n",
       "      <td>1</td>\n",
       "      <td>0</td>\n",
       "    </tr>\n",
       "    <tr>\n",
       "      <th>22932074</th>\n",
       "      <td>1.0</td>\n",
       "      <td>1.85</td>\n",
       "      <td>2</td>\n",
       "      <td>0</td>\n",
       "    </tr>\n",
       "    <tr>\n",
       "      <th>23021257</th>\n",
       "      <td>2.0</td>\n",
       "      <td>2.85</td>\n",
       "      <td>1</td>\n",
       "      <td>0</td>\n",
       "    </tr>\n",
       "    <tr>\n",
       "      <th>22926693</th>\n",
       "      <td>2.0</td>\n",
       "      <td>2.10</td>\n",
       "      <td>1</td>\n",
       "      <td>0</td>\n",
       "    </tr>\n",
       "  </tbody>\n",
       "</table>\n",
       "<p>22095 rows × 4 columns</p>\n",
       "</div>"
      ],
      "text/plain": [
       "          passenger_count  trip_distance  payment_type  fare_error\n",
       "22913717              2.0           1.66             1           0\n",
       "22903213              1.0          11.15             1           0\n",
       "22983709              1.0           2.24             2           0\n",
       "22944743              1.0           2.43             1           0\n",
       "22995396              1.0           2.40             1           0\n",
       "...                   ...            ...           ...         ...\n",
       "22976220              1.0           0.64             1           0\n",
       "22951252              1.0           0.93             1           0\n",
       "22932074              1.0           1.85             2           0\n",
       "23021257              2.0           2.85             1           0\n",
       "22926693              2.0           2.10             1           0\n",
       "\n",
       "[22095 rows x 4 columns]"
      ]
     },
     "execution_count": 98,
     "metadata": {},
     "output_type": "execute_result"
    }
   ],
   "source": [
    "x_test"
   ]
  },
  {
   "cell_type": "markdown",
   "id": "05c0649a-361c-46e7-aaf4-72b0b617eadb",
   "metadata": {},
   "source": [
    "#### C.\n",
    "#### Fit a model that we covered in class to your training data.   The models covered in class are linear regression, polynomial regression, decision trees, k-nearest neighbors, and logistic regression."
   ]
  },
  {
   "cell_type": "code",
   "execution_count": 101,
   "id": "4bc5136e-37f7-459e-a459-f57c28a4c861",
   "metadata": {},
   "outputs": [],
   "source": [
    "tree1 = DecisionTreeRegressor(max_depth = 3)\n",
    "tree1 = tree1.fit(x_train, y_train)"
   ]
  },
  {
   "cell_type": "markdown",
   "id": "c75c471b-c1c0-499b-a285-4f1dfe496433",
   "metadata": {},
   "source": [
    "### D.\n",
    "#### Evaluate the fit of your model using your testing and training data.  You should use the appropriate methods for your model."
   ]
  },
  {
   "cell_type": "code",
   "execution_count": 113,
   "id": "ec6b0d3f-3dfa-4536-8345-cfcef2810aa1",
   "metadata": {},
   "outputs": [],
   "source": [
    "tree1_pred = tree1.predict(x_test)"
   ]
  },
  {
   "cell_type": "code",
   "execution_count": 116,
   "id": "728fc6b3-6425-4771-8655-27459b539b6f",
   "metadata": {},
   "outputs": [
    {
     "data": {
      "text/plain": [
       "15.394566916517192"
      ]
     },
     "execution_count": 116,
     "metadata": {},
     "output_type": "execute_result"
    }
   ],
   "source": [
    "mean_squared_error(tree1_pred, y_test)"
   ]
  },
  {
   "cell_type": "code",
   "execution_count": 124,
   "id": "f6867de4-f40a-4779-8c11-cb860231d361",
   "metadata": {},
   "outputs": [
    {
     "data": {
      "text/plain": [
       "18.170204336514242"
      ]
     },
     "execution_count": 124,
     "metadata": {},
     "output_type": "execute_result"
    }
   ],
   "source": [
    "tree1_train_pred = tree1.predict(x_train)\n",
    "mean_squared_error(tree1_train_pred, y_train)"
   ]
  },
  {
   "cell_type": "code",
   "execution_count": 129,
   "id": "60849f17-e264-43b0-99e1-6ad5a4ebcb68",
   "metadata": {},
   "outputs": [],
   "source": [
    "max_depth = 3\n",
    "MSE test: 15.3945\n",
    "MSE train: 18.1702"
   ]
  },
  {
   "cell_type": "markdown",
   "id": "b8e76474-8cf3-448c-9663-db5b56653a16",
   "metadata": {},
   "source": [
    "### E.\n",
    "#### Repeat steps (c) and (d) with at least two different parameters for your model.  For linear regression, you should use different subsets of the independent variables (for example, by dropping independent variables with high p-values).."
   ]
  },
  {
   "cell_type": "code",
   "execution_count": 131,
   "id": "7f087a9c-59e2-4d3b-abef-0aa6aff591fe",
   "metadata": {},
   "outputs": [
    {
     "data": {
      "text/html": [
       "<div>\n",
       "<style scoped>\n",
       "    .dataframe tbody tr th:only-of-type {\n",
       "        vertical-align: middle;\n",
       "    }\n",
       "\n",
       "    .dataframe tbody tr th {\n",
       "        vertical-align: top;\n",
       "    }\n",
       "\n",
       "    .dataframe thead th {\n",
       "        text-align: right;\n",
       "    }\n",
       "</style>\n",
       "<table border=\"1\" class=\"dataframe\">\n",
       "  <thead>\n",
       "    <tr style=\"text-align: right;\">\n",
       "      <th></th>\n",
       "      <th>trip_distance</th>\n",
       "      <th>payment_type</th>\n",
       "      <th>fare_error</th>\n",
       "    </tr>\n",
       "  </thead>\n",
       "  <tbody>\n",
       "    <tr>\n",
       "      <th>22901374</th>\n",
       "      <td>1.34</td>\n",
       "      <td>1</td>\n",
       "      <td>0</td>\n",
       "    </tr>\n",
       "    <tr>\n",
       "      <th>22901375</th>\n",
       "      <td>1.01</td>\n",
       "      <td>2</td>\n",
       "      <td>0</td>\n",
       "    </tr>\n",
       "    <tr>\n",
       "      <th>22901376</th>\n",
       "      <td>4.30</td>\n",
       "      <td>1</td>\n",
       "      <td>0</td>\n",
       "    </tr>\n",
       "    <tr>\n",
       "      <th>22901377</th>\n",
       "      <td>1.54</td>\n",
       "      <td>2</td>\n",
       "      <td>0</td>\n",
       "    </tr>\n",
       "    <tr>\n",
       "      <th>22901378</th>\n",
       "      <td>1.57</td>\n",
       "      <td>1</td>\n",
       "      <td>0</td>\n",
       "    </tr>\n",
       "    <tr>\n",
       "      <th>...</th>\n",
       "      <td>...</td>\n",
       "      <td>...</td>\n",
       "      <td>...</td>\n",
       "    </tr>\n",
       "    <tr>\n",
       "      <th>23023933</th>\n",
       "      <td>16.96</td>\n",
       "      <td>2</td>\n",
       "      <td>0</td>\n",
       "    </tr>\n",
       "    <tr>\n",
       "      <th>23023934</th>\n",
       "      <td>1.22</td>\n",
       "      <td>1</td>\n",
       "      <td>0</td>\n",
       "    </tr>\n",
       "    <tr>\n",
       "      <th>23023935</th>\n",
       "      <td>4.52</td>\n",
       "      <td>2</td>\n",
       "      <td>0</td>\n",
       "    </tr>\n",
       "    <tr>\n",
       "      <th>23023936</th>\n",
       "      <td>3.30</td>\n",
       "      <td>1</td>\n",
       "      <td>0</td>\n",
       "    </tr>\n",
       "    <tr>\n",
       "      <th>23023937</th>\n",
       "      <td>3.12</td>\n",
       "      <td>1</td>\n",
       "      <td>0</td>\n",
       "    </tr>\n",
       "  </tbody>\n",
       "</table>\n",
       "<p>110472 rows × 3 columns</p>\n",
       "</div>"
      ],
      "text/plain": [
       "          trip_distance  payment_type  fare_error\n",
       "22901374           1.34             1           0\n",
       "22901375           1.01             2           0\n",
       "22901376           4.30             1           0\n",
       "22901377           1.54             2           0\n",
       "22901378           1.57             1           0\n",
       "...                 ...           ...         ...\n",
       "23023933          16.96             2           0\n",
       "23023934           1.22             1           0\n",
       "23023935           4.52             2           0\n",
       "23023936           3.30             1           0\n",
       "23023937           3.12             1           0\n",
       "\n",
       "[110472 rows x 3 columns]"
      ]
     },
     "execution_count": 131,
     "metadata": {},
     "output_type": "execute_result"
    }
   ],
   "source": [
    "x2 = df5.drop(columns = [\"fare_amount\", \"tpep_pickup_datetime\", \"passenger_count\"])\n",
    "x2"
   ]
  },
  {
   "cell_type": "code",
   "execution_count": 253,
   "id": "508fdef9-8e55-4e7e-bf13-addeda1d3dd3",
   "metadata": {},
   "outputs": [
    {
     "data": {
      "text/plain": [
       "Index(['trip_distance', 'payment_type', 'fare_error'], dtype='object')"
      ]
     },
     "execution_count": 253,
     "metadata": {},
     "output_type": "execute_result"
    }
   ],
   "source": [
    "X2.columns"
   ]
  },
  {
   "cell_type": "code",
   "execution_count": 137,
   "id": "115c05a1-f512-4693-9b7b-47a0b7b2cf48",
   "metadata": {},
   "outputs": [],
   "source": [
    "x_train, x_test, y_train, y_test = train_test_split(x2, y, test_size=0.2)"
   ]
  },
  {
   "cell_type": "code",
   "execution_count": 141,
   "id": "c9c42664-cf13-4e12-899a-d5252bfb7286",
   "metadata": {},
   "outputs": [],
   "source": [
    "tree2 = DecisionTreeRegressor(max_depth = 5)\n",
    "tree2 = tree2.fit(x_train, y_train)"
   ]
  },
  {
   "cell_type": "code",
   "execution_count": 143,
   "id": "4c0b57be-68af-4783-b3cf-009405b88cef",
   "metadata": {},
   "outputs": [],
   "source": [
    "tree2_test_pred = tree2.predict(x_test)"
   ]
  },
  {
   "cell_type": "code",
   "execution_count": 145,
   "id": "be5e6667-96e2-4e6c-a5a5-6d5240f95f64",
   "metadata": {},
   "outputs": [
    {
     "data": {
      "text/plain": [
       "16.60862076588014"
      ]
     },
     "execution_count": 145,
     "metadata": {},
     "output_type": "execute_result"
    }
   ],
   "source": [
    "mean_squared_error(tree2_test_pred, y_test)"
   ]
  },
  {
   "cell_type": "code",
   "execution_count": 147,
   "id": "dbbf732f-3ff7-439c-90e2-051eaa5c2079",
   "metadata": {},
   "outputs": [
    {
     "data": {
      "text/plain": [
       "13.05354909004159"
      ]
     },
     "execution_count": 147,
     "metadata": {},
     "output_type": "execute_result"
    }
   ],
   "source": [
    "tree2_train_pred = tree2.predict(x_train)\n",
    "mean_squared_error(tree2_train_pred, y_train)"
   ]
  },
  {
   "cell_type": "code",
   "execution_count": null,
   "id": "06e91c2e-8c86-4979-b106-fed44e1dab1d",
   "metadata": {},
   "outputs": [],
   "source": [
    "max_depth = 5\n",
    "MSE test: 16.6086\n",
    "MSE train: 13.0535"
   ]
  },
  {
   "cell_type": "code",
   "execution_count": null,
   "id": "74b61fe9-8706-4b6b-a026-a1e8537a0691",
   "metadata": {},
   "outputs": [],
   "source": []
  },
  {
   "cell_type": "code",
   "execution_count": 135,
   "id": "4550ae2d-8ebb-4154-9126-9622ca8def07",
   "metadata": {},
   "outputs": [
    {
     "data": {
      "text/html": [
       "<div>\n",
       "<style scoped>\n",
       "    .dataframe tbody tr th:only-of-type {\n",
       "        vertical-align: middle;\n",
       "    }\n",
       "\n",
       "    .dataframe tbody tr th {\n",
       "        vertical-align: top;\n",
       "    }\n",
       "\n",
       "    .dataframe thead th {\n",
       "        text-align: right;\n",
       "    }\n",
       "</style>\n",
       "<table border=\"1\" class=\"dataframe\">\n",
       "  <thead>\n",
       "    <tr style=\"text-align: right;\">\n",
       "      <th></th>\n",
       "      <th>trip_distance</th>\n",
       "    </tr>\n",
       "  </thead>\n",
       "  <tbody>\n",
       "    <tr>\n",
       "      <th>22901374</th>\n",
       "      <td>1.34</td>\n",
       "    </tr>\n",
       "    <tr>\n",
       "      <th>22901375</th>\n",
       "      <td>1.01</td>\n",
       "    </tr>\n",
       "    <tr>\n",
       "      <th>22901376</th>\n",
       "      <td>4.30</td>\n",
       "    </tr>\n",
       "    <tr>\n",
       "      <th>22901377</th>\n",
       "      <td>1.54</td>\n",
       "    </tr>\n",
       "    <tr>\n",
       "      <th>22901378</th>\n",
       "      <td>1.57</td>\n",
       "    </tr>\n",
       "    <tr>\n",
       "      <th>...</th>\n",
       "      <td>...</td>\n",
       "    </tr>\n",
       "    <tr>\n",
       "      <th>23023933</th>\n",
       "      <td>16.96</td>\n",
       "    </tr>\n",
       "    <tr>\n",
       "      <th>23023934</th>\n",
       "      <td>1.22</td>\n",
       "    </tr>\n",
       "    <tr>\n",
       "      <th>23023935</th>\n",
       "      <td>4.52</td>\n",
       "    </tr>\n",
       "    <tr>\n",
       "      <th>23023936</th>\n",
       "      <td>3.30</td>\n",
       "    </tr>\n",
       "    <tr>\n",
       "      <th>23023937</th>\n",
       "      <td>3.12</td>\n",
       "    </tr>\n",
       "  </tbody>\n",
       "</table>\n",
       "<p>110472 rows × 1 columns</p>\n",
       "</div>"
      ],
      "text/plain": [
       "          trip_distance\n",
       "22901374           1.34\n",
       "22901375           1.01\n",
       "22901376           4.30\n",
       "22901377           1.54\n",
       "22901378           1.57\n",
       "...                 ...\n",
       "23023933          16.96\n",
       "23023934           1.22\n",
       "23023935           4.52\n",
       "23023936           3.30\n",
       "23023937           3.12\n",
       "\n",
       "[110472 rows x 1 columns]"
      ]
     },
     "execution_count": 135,
     "metadata": {},
     "output_type": "execute_result"
    }
   ],
   "source": [
    "x3 = df5.drop(columns = [\"fare_amount\", \"tpep_pickup_datetime\", \"passenger_count\", \"payment_type\", \"fare_error\"])\n",
    "x3"
   ]
  },
  {
   "cell_type": "code",
   "execution_count": 149,
   "id": "5d378b9c-8257-4400-99b3-cd9b9c0ed54f",
   "metadata": {},
   "outputs": [],
   "source": [
    "x_train, x_test, y_train, y_test = train_test_split(x3, y, test_size=0.2)"
   ]
  },
  {
   "cell_type": "code",
   "execution_count": 151,
   "id": "a5b5e2bb-4fd6-4fb3-b845-e5b1523c0478",
   "metadata": {},
   "outputs": [],
   "source": [
    "tree3 = DecisionTreeRegressor(max_depth = 8)\n",
    "tree3 = tree3.fit(x_train, y_train)"
   ]
  },
  {
   "cell_type": "code",
   "execution_count": 153,
   "id": "1910ce73-2671-4f9f-9751-00472cf9f310",
   "metadata": {},
   "outputs": [],
   "source": [
    "tree3_test_pred = tree3.predict(x_test)"
   ]
  },
  {
   "cell_type": "code",
   "execution_count": 155,
   "id": "b04a1d1f-cfed-4c36-ac95-4d87836309bc",
   "metadata": {},
   "outputs": [
    {
     "data": {
      "text/plain": [
       "15.741253666868488"
      ]
     },
     "execution_count": 155,
     "metadata": {},
     "output_type": "execute_result"
    }
   ],
   "source": [
    "mean_squared_error(tree3_test_pred, y_test)"
   ]
  },
  {
   "cell_type": "code",
   "execution_count": 157,
   "id": "17d2b15e-e3d6-4b99-ade4-0febb4280632",
   "metadata": {},
   "outputs": [
    {
     "data": {
      "text/plain": [
       "12.080551575209903"
      ]
     },
     "execution_count": 157,
     "metadata": {},
     "output_type": "execute_result"
    }
   ],
   "source": [
    "tree3_train_pred = tree3.predict(x_train)\n",
    "mean_squared_error(tree3_train_pred, y_train)"
   ]
  },
  {
   "cell_type": "code",
   "execution_count": null,
   "id": "0c902cd7-2808-4845-852a-7f1cad4f3f89",
   "metadata": {},
   "outputs": [],
   "source": [
    "max_depth = 8\n",
    "MSE test: 15.7412\n",
    "MSE train: 12.0805"
   ]
  },
  {
   "cell_type": "markdown",
   "id": "2cde38aa-1290-46d1-b876-1101d094c2c2",
   "metadata": {},
   "source": [
    "#### f.\n",
    "#### Post your code to GitHub.\n"
   ]
  },
  {
   "cell_type": "markdown",
   "id": "ad2efa9f-8f50-407c-9ca1-854fae337d9c",
   "metadata": {},
   "source": [
    "#### g. \n",
    "#### Describe what prediction model and parameters you tried on your webpage, as well as how you evaluated the model/parameter combinations and the results of the evaluation (ex. pros and cons of this model/parameter combo).  Conclude with recommending which parameter to use with this model to get the best predictions for your data."
   ]
  },
  {
   "cell_type": "code",
   "execution_count": null,
   "id": "eef8c356-1169-4ccf-a296-e6b35e482e1b",
   "metadata": {},
   "outputs": [],
   "source": [
    "max_depth = 3\n",
    "MSE test: 15.3945\n",
    "MSE train: 18.1702"
   ]
  },
  {
   "cell_type": "code",
   "execution_count": null,
   "id": "163daf0b-9718-4c9e-bdf5-09209fa58951",
   "metadata": {},
   "outputs": [],
   "source": [
    "max_depth = 5\n",
    "MSE test: 16.6086\n",
    "MSE train: 13.0535"
   ]
  },
  {
   "cell_type": "code",
   "execution_count": null,
   "id": "813da0a1-3c3c-4545-aea0-52757548cd18",
   "metadata": {},
   "outputs": [],
   "source": [
    "max_depth = 8\n",
    "MSE test: 15.7412\n",
    "MSE train: 12.0805"
   ]
  },
  {
   "cell_type": "markdown",
   "id": "ad57611d-e09c-435d-bbc8-a1fdeb91a88b",
   "metadata": {},
   "source": [
    "- The models 5 and 8 have the test MSE higher than the train MSE. This indicate some overfitting. \n",
    "- The Decision Tree regression model with max_depth = 3 has the lowest test MSE but the highest train MSE.\n",
    "- I would recommend max_depth = 3 model to predict the fare_amount of taxi trips. This model doesn't have overfitting and it has the best test MSE of all three.   "
   ]
  },
  {
   "cell_type": "code",
   "execution_count": null,
   "id": "f938b39a-9a36-450b-8c8c-d41240fc2e5d",
   "metadata": {},
   "outputs": [],
   "source": []
  },
  {
   "cell_type": "markdown",
   "id": "2def53bb-0263-4d84-a058-1dd5112952b3",
   "metadata": {},
   "source": [
    "# Step 9: model 2"
   ]
  },
  {
   "cell_type": "markdown",
   "id": "9f881793-c78c-439e-839c-033d965c2a7f",
   "metadata": {},
   "source": [
    "### a.\n",
    "#### Fit a different model that the one used in Step 8 to your training data.  You must use a model covered in class (linear regression, polynomial regression, decision trees, k-nearest neighbors, logistic regression).\r\n"
   ]
  },
  {
   "cell_type": "markdown",
   "id": "834e995d-e3a7-4074-baa3-a115ca895c8b",
   "metadata": {},
   "source": [
    "### Evaluate the fit of your 2nd model using your testing and training data.  You should use the appropriate methods for your model.\r\n"
   ]
  },
  {
   "cell_type": "markdown",
   "id": "443d222b-55ad-46d5-ae22-83e7b7f1d5e4",
   "metadata": {},
   "source": [
    "#### K-Nearest Neighbors Regression"
   ]
  },
  {
   "cell_type": "code",
   "execution_count": 194,
   "id": "3676691c-faf5-4592-bf86-94d2bbbb2650",
   "metadata": {},
   "outputs": [],
   "source": [
    "from sklearn.preprocessing import MinMaxScaler\n",
    "    \n",
    "from sklearn.model_selection import train_test_split\n",
    "\n",
    "from sklearn.neighbors import KNeighborsRegressor\n",
    "from sklearn.metrics import mean_squared_error"
   ]
  },
  {
   "cell_type": "code",
   "execution_count": 181,
   "id": "e791eb43-855f-4c3a-a7dc-e03c2c84bb79",
   "metadata": {},
   "outputs": [
    {
     "data": {
      "text/html": [
       "<div>\n",
       "<style scoped>\n",
       "    .dataframe tbody tr th:only-of-type {\n",
       "        vertical-align: middle;\n",
       "    }\n",
       "\n",
       "    .dataframe tbody tr th {\n",
       "        vertical-align: top;\n",
       "    }\n",
       "\n",
       "    .dataframe thead th {\n",
       "        text-align: right;\n",
       "    }\n",
       "</style>\n",
       "<table border=\"1\" class=\"dataframe\">\n",
       "  <thead>\n",
       "    <tr style=\"text-align: right;\">\n",
       "      <th></th>\n",
       "      <th>passenger_count</th>\n",
       "      <th>trip_distance</th>\n",
       "      <th>payment_type</th>\n",
       "      <th>fare_error</th>\n",
       "    </tr>\n",
       "  </thead>\n",
       "  <tbody>\n",
       "    <tr>\n",
       "      <th>22901374</th>\n",
       "      <td>5.0</td>\n",
       "      <td>1.34</td>\n",
       "      <td>1</td>\n",
       "      <td>0</td>\n",
       "    </tr>\n",
       "    <tr>\n",
       "      <th>22901375</th>\n",
       "      <td>1.0</td>\n",
       "      <td>1.01</td>\n",
       "      <td>2</td>\n",
       "      <td>0</td>\n",
       "    </tr>\n",
       "    <tr>\n",
       "      <th>22901376</th>\n",
       "      <td>1.0</td>\n",
       "      <td>4.30</td>\n",
       "      <td>1</td>\n",
       "      <td>0</td>\n",
       "    </tr>\n",
       "    <tr>\n",
       "      <th>22901377</th>\n",
       "      <td>1.0</td>\n",
       "      <td>1.54</td>\n",
       "      <td>2</td>\n",
       "      <td>0</td>\n",
       "    </tr>\n",
       "    <tr>\n",
       "      <th>22901378</th>\n",
       "      <td>1.0</td>\n",
       "      <td>1.57</td>\n",
       "      <td>1</td>\n",
       "      <td>0</td>\n",
       "    </tr>\n",
       "    <tr>\n",
       "      <th>...</th>\n",
       "      <td>...</td>\n",
       "      <td>...</td>\n",
       "      <td>...</td>\n",
       "      <td>...</td>\n",
       "    </tr>\n",
       "    <tr>\n",
       "      <th>23023933</th>\n",
       "      <td>2.0</td>\n",
       "      <td>16.96</td>\n",
       "      <td>2</td>\n",
       "      <td>0</td>\n",
       "    </tr>\n",
       "    <tr>\n",
       "      <th>23023934</th>\n",
       "      <td>4.0</td>\n",
       "      <td>1.22</td>\n",
       "      <td>1</td>\n",
       "      <td>0</td>\n",
       "    </tr>\n",
       "    <tr>\n",
       "      <th>23023935</th>\n",
       "      <td>1.0</td>\n",
       "      <td>4.52</td>\n",
       "      <td>2</td>\n",
       "      <td>0</td>\n",
       "    </tr>\n",
       "    <tr>\n",
       "      <th>23023936</th>\n",
       "      <td>2.0</td>\n",
       "      <td>3.30</td>\n",
       "      <td>1</td>\n",
       "      <td>0</td>\n",
       "    </tr>\n",
       "    <tr>\n",
       "      <th>23023937</th>\n",
       "      <td>1.0</td>\n",
       "      <td>3.12</td>\n",
       "      <td>1</td>\n",
       "      <td>0</td>\n",
       "    </tr>\n",
       "  </tbody>\n",
       "</table>\n",
       "<p>110472 rows × 4 columns</p>\n",
       "</div>"
      ],
      "text/plain": [
       "          passenger_count  trip_distance  payment_type  fare_error\n",
       "22901374              5.0           1.34             1           0\n",
       "22901375              1.0           1.01             2           0\n",
       "22901376              1.0           4.30             1           0\n",
       "22901377              1.0           1.54             2           0\n",
       "22901378              1.0           1.57             1           0\n",
       "...                   ...            ...           ...         ...\n",
       "23023933              2.0          16.96             2           0\n",
       "23023934              4.0           1.22             1           0\n",
       "23023935              1.0           4.52             2           0\n",
       "23023936              2.0           3.30             1           0\n",
       "23023937              1.0           3.12             1           0\n",
       "\n",
       "[110472 rows x 4 columns]"
      ]
     },
     "execution_count": 181,
     "metadata": {},
     "output_type": "execute_result"
    }
   ],
   "source": [
    "X = df5.drop(columns = [\"fare_amount\", \"tpep_pickup_datetime\"])\n",
    "X"
   ]
  },
  {
   "cell_type": "code",
   "execution_count": 183,
   "id": "df5ce41e-8d3a-40c8-b13e-c1aba3bdb58c",
   "metadata": {},
   "outputs": [
    {
     "data": {
      "text/plain": [
       "22901374     9.5\n",
       "22901375     6.0\n",
       "22901376    20.5\n",
       "22901377     8.5\n",
       "22901378     7.5\n",
       "            ... \n",
       "23023933    52.0\n",
       "23023934     7.0\n",
       "23023935    15.5\n",
       "23023936    13.0\n",
       "23023937    13.0\n",
       "Name: fare_amount, Length: 110472, dtype: float64"
      ]
     },
     "execution_count": 183,
     "metadata": {},
     "output_type": "execute_result"
    }
   ],
   "source": [
    "Y = df5[\"fare_amount\"]\n",
    "Y"
   ]
  },
  {
   "cell_type": "code",
   "execution_count": 186,
   "id": "0623be05-0e68-484b-84ea-90fa93d8f25f",
   "metadata": {},
   "outputs": [],
   "source": [
    "x_train, x_test, y_train, y_test = train_test_split(X, Y, test_size=0.2)"
   ]
  },
  {
   "cell_type": "code",
   "execution_count": 218,
   "id": "387cc8b7-1774-4ac5-a863-76f928a91f98",
   "metadata": {},
   "outputs": [
    {
     "data": {
      "text/html": [
       "<style>#sk-container-id-4 {color: black;}#sk-container-id-4 pre{padding: 0;}#sk-container-id-4 div.sk-toggleable {background-color: white;}#sk-container-id-4 label.sk-toggleable__label {cursor: pointer;display: block;width: 100%;margin-bottom: 0;padding: 0.3em;box-sizing: border-box;text-align: center;}#sk-container-id-4 label.sk-toggleable__label-arrow:before {content: \"▸\";float: left;margin-right: 0.25em;color: #696969;}#sk-container-id-4 label.sk-toggleable__label-arrow:hover:before {color: black;}#sk-container-id-4 div.sk-estimator:hover label.sk-toggleable__label-arrow:before {color: black;}#sk-container-id-4 div.sk-toggleable__content {max-height: 0;max-width: 0;overflow: hidden;text-align: left;background-color: #f0f8ff;}#sk-container-id-4 div.sk-toggleable__content pre {margin: 0.2em;color: black;border-radius: 0.25em;background-color: #f0f8ff;}#sk-container-id-4 input.sk-toggleable__control:checked~div.sk-toggleable__content {max-height: 200px;max-width: 100%;overflow: auto;}#sk-container-id-4 input.sk-toggleable__control:checked~label.sk-toggleable__label-arrow:before {content: \"▾\";}#sk-container-id-4 div.sk-estimator input.sk-toggleable__control:checked~label.sk-toggleable__label {background-color: #d4ebff;}#sk-container-id-4 div.sk-label input.sk-toggleable__control:checked~label.sk-toggleable__label {background-color: #d4ebff;}#sk-container-id-4 input.sk-hidden--visually {border: 0;clip: rect(1px 1px 1px 1px);clip: rect(1px, 1px, 1px, 1px);height: 1px;margin: -1px;overflow: hidden;padding: 0;position: absolute;width: 1px;}#sk-container-id-4 div.sk-estimator {font-family: monospace;background-color: #f0f8ff;border: 1px dotted black;border-radius: 0.25em;box-sizing: border-box;margin-bottom: 0.5em;}#sk-container-id-4 div.sk-estimator:hover {background-color: #d4ebff;}#sk-container-id-4 div.sk-parallel-item::after {content: \"\";width: 100%;border-bottom: 1px solid gray;flex-grow: 1;}#sk-container-id-4 div.sk-label:hover label.sk-toggleable__label {background-color: #d4ebff;}#sk-container-id-4 div.sk-serial::before {content: \"\";position: absolute;border-left: 1px solid gray;box-sizing: border-box;top: 0;bottom: 0;left: 50%;z-index: 0;}#sk-container-id-4 div.sk-serial {display: flex;flex-direction: column;align-items: center;background-color: white;padding-right: 0.2em;padding-left: 0.2em;position: relative;}#sk-container-id-4 div.sk-item {position: relative;z-index: 1;}#sk-container-id-4 div.sk-parallel {display: flex;align-items: stretch;justify-content: center;background-color: white;position: relative;}#sk-container-id-4 div.sk-item::before, #sk-container-id-4 div.sk-parallel-item::before {content: \"\";position: absolute;border-left: 1px solid gray;box-sizing: border-box;top: 0;bottom: 0;left: 50%;z-index: -1;}#sk-container-id-4 div.sk-parallel-item {display: flex;flex-direction: column;z-index: 1;position: relative;background-color: white;}#sk-container-id-4 div.sk-parallel-item:first-child::after {align-self: flex-end;width: 50%;}#sk-container-id-4 div.sk-parallel-item:last-child::after {align-self: flex-start;width: 50%;}#sk-container-id-4 div.sk-parallel-item:only-child::after {width: 0;}#sk-container-id-4 div.sk-dashed-wrapped {border: 1px dashed gray;margin: 0 0.4em 0.5em 0.4em;box-sizing: border-box;padding-bottom: 0.4em;background-color: white;}#sk-container-id-4 div.sk-label label {font-family: monospace;font-weight: bold;display: inline-block;line-height: 1.2em;}#sk-container-id-4 div.sk-label-container {text-align: center;}#sk-container-id-4 div.sk-container {/* jupyter's `normalize.less` sets `[hidden] { display: none; }` but bootstrap.min.css set `[hidden] { display: none !important; }` so we also need the `!important` here to be able to override the default hidden behavior on the sphinx rendered scikit-learn.org. See: https://github.com/scikit-learn/scikit-learn/issues/21755 */display: inline-block !important;position: relative;}#sk-container-id-4 div.sk-text-repr-fallback {display: none;}</style><div id=\"sk-container-id-4\" class=\"sk-top-container\"><div class=\"sk-text-repr-fallback\"><pre>KNeighborsRegressor(n_neighbors=7)</pre><b>In a Jupyter environment, please rerun this cell to show the HTML representation or trust the notebook. <br />On GitHub, the HTML representation is unable to render, please try loading this page with nbviewer.org.</b></div><div class=\"sk-container\" hidden><div class=\"sk-item\"><div class=\"sk-estimator sk-toggleable\"><input class=\"sk-toggleable__control sk-hidden--visually\" id=\"sk-estimator-id-4\" type=\"checkbox\" checked><label for=\"sk-estimator-id-4\" class=\"sk-toggleable__label sk-toggleable__label-arrow\">KNeighborsRegressor</label><div class=\"sk-toggleable__content\"><pre>KNeighborsRegressor(n_neighbors=7)</pre></div></div></div></div></div>"
      ],
      "text/plain": [
       "KNeighborsRegressor(n_neighbors=7)"
      ]
     },
     "execution_count": 218,
     "metadata": {},
     "output_type": "execute_result"
    }
   ],
   "source": [
    "knn = KNeighborsRegressor(n_neighbors = 7)\n",
    "knn.fit(x_train, y_train)"
   ]
  },
  {
   "cell_type": "code",
   "execution_count": 204,
   "id": "cd020fe0-69de-4f64-b4bc-b9a59d9dfdff",
   "metadata": {},
   "outputs": [
    {
     "data": {
      "text/plain": [
       "16.10782847684627"
      ]
     },
     "execution_count": 204,
     "metadata": {},
     "output_type": "execute_result"
    }
   ],
   "source": [
    "y_test_pred = knn.predict(x_test)\n",
    "mean_squared_error(y_test_pred, y_test)"
   ]
  },
  {
   "cell_type": "code",
   "execution_count": 206,
   "id": "96c7b579-6921-4602-b358-5583f8e08a15",
   "metadata": {},
   "outputs": [
    {
     "data": {
      "text/plain": [
       "13.072947187593597"
      ]
     },
     "execution_count": 206,
     "metadata": {},
     "output_type": "execute_result"
    }
   ],
   "source": [
    "y_train_pred = knn.predict(x_train)\n",
    "mean_squared_error(y_train_pred, y_train)"
   ]
  },
  {
   "cell_type": "code",
   "execution_count": null,
   "id": "c7e0dc9a-0bef-4cdb-a088-2854e4d98d8b",
   "metadata": {},
   "outputs": [],
   "source": [
    "n_neighbors = 7\n",
    "MSE test: 16.1078\n",
    "MSE train: 13.0729"
   ]
  },
  {
   "cell_type": "code",
   "execution_count": 257,
   "id": "1bbd9117-0f56-496c-bce3-3adafbe479de",
   "metadata": {},
   "outputs": [
    {
     "data": {
      "text/plain": [
       "Text(0, 0.5, 'error in prediction (residual)')"
      ]
     },
     "execution_count": 257,
     "metadata": {},
     "output_type": "execute_result"
    },
    {
     "data": {
      "image/png": "[encoded data removed]",
      "text/plain": [
       "<Figure size 640x480 with 1 Axes>"
      ]
     },
     "metadata": {},
     "output_type": "display_data"
    }
   ],
   "source": [
    "plt.scatter(y_test, y_test - y_test_pred, alpha = 0.5)\n",
    "plt.xlabel(\"actual fare amount\")\n",
    "plt.ylabel(\"error in prediction (residual)\")"
   ]
  },
  {
   "cell_type": "markdown",
   "id": "9ebc1b5d-e359-4824-b924-4b1178a027b6",
   "metadata": {},
   "source": [
    "#### b.\n",
    "#### Repeat steps (c) and (d) with at least two different parameters for your 2nd model.  For linear regression, you can use different subsets of the independent variables (for example, by dropping independent variables with high p-values).\r\n"
   ]
  },
  {
   "cell_type": "code",
   "execution_count": 212,
   "id": "7857c4ba-69ad-454e-91da-3c058cbfc4a0",
   "metadata": {},
   "outputs": [],
   "source": [
    "X2 = df5.drop(columns = [\"fare_amount\", \"tpep_pickup_datetime\", \"passenger_count\"])\n",
    "#X2"
   ]
  },
  {
   "cell_type": "code",
   "execution_count": 214,
   "id": "0ed42683-6e45-4b39-9bc2-bd6b498a2d4d",
   "metadata": {},
   "outputs": [],
   "source": [
    "x_train, x_test, y_train, y_test = train_test_split(X2, Y, test_size=0.2)"
   ]
  },
  {
   "cell_type": "code",
   "execution_count": 220,
   "id": "78cea024-aa95-4336-b1ac-a480ec455069",
   "metadata": {},
   "outputs": [
    {
     "data": {
      "text/html": [
       "<style>#sk-container-id-5 {color: black;}#sk-container-id-5 pre{padding: 0;}#sk-container-id-5 div.sk-toggleable {background-color: white;}#sk-container-id-5 label.sk-toggleable__label {cursor: pointer;display: block;width: 100%;margin-bottom: 0;padding: 0.3em;box-sizing: border-box;text-align: center;}#sk-container-id-5 label.sk-toggleable__label-arrow:before {content: \"▸\";float: left;margin-right: 0.25em;color: #696969;}#sk-container-id-5 label.sk-toggleable__label-arrow:hover:before {color: black;}#sk-container-id-5 div.sk-estimator:hover label.sk-toggleable__label-arrow:before {color: black;}#sk-container-id-5 div.sk-toggleable__content {max-height: 0;max-width: 0;overflow: hidden;text-align: left;background-color: #f0f8ff;}#sk-container-id-5 div.sk-toggleable__content pre {margin: 0.2em;color: black;border-radius: 0.25em;background-color: #f0f8ff;}#sk-container-id-5 input.sk-toggleable__control:checked~div.sk-toggleable__content {max-height: 200px;max-width: 100%;overflow: auto;}#sk-container-id-5 input.sk-toggleable__control:checked~label.sk-toggleable__label-arrow:before {content: \"▾\";}#sk-container-id-5 div.sk-estimator input.sk-toggleable__control:checked~label.sk-toggleable__label {background-color: #d4ebff;}#sk-container-id-5 div.sk-label input.sk-toggleable__control:checked~label.sk-toggleable__label {background-color: #d4ebff;}#sk-container-id-5 input.sk-hidden--visually {border: 0;clip: rect(1px 1px 1px 1px);clip: rect(1px, 1px, 1px, 1px);height: 1px;margin: -1px;overflow: hidden;padding: 0;position: absolute;width: 1px;}#sk-container-id-5 div.sk-estimator {font-family: monospace;background-color: #f0f8ff;border: 1px dotted black;border-radius: 0.25em;box-sizing: border-box;margin-bottom: 0.5em;}#sk-container-id-5 div.sk-estimator:hover {background-color: #d4ebff;}#sk-container-id-5 div.sk-parallel-item::after {content: \"\";width: 100%;border-bottom: 1px solid gray;flex-grow: 1;}#sk-container-id-5 div.sk-label:hover label.sk-toggleable__label {background-color: #d4ebff;}#sk-container-id-5 div.sk-serial::before {content: \"\";position: absolute;border-left: 1px solid gray;box-sizing: border-box;top: 0;bottom: 0;left: 50%;z-index: 0;}#sk-container-id-5 div.sk-serial {display: flex;flex-direction: column;align-items: center;background-color: white;padding-right: 0.2em;padding-left: 0.2em;position: relative;}#sk-container-id-5 div.sk-item {position: relative;z-index: 1;}#sk-container-id-5 div.sk-parallel {display: flex;align-items: stretch;justify-content: center;background-color: white;position: relative;}#sk-container-id-5 div.sk-item::before, #sk-container-id-5 div.sk-parallel-item::before {content: \"\";position: absolute;border-left: 1px solid gray;box-sizing: border-box;top: 0;bottom: 0;left: 50%;z-index: -1;}#sk-container-id-5 div.sk-parallel-item {display: flex;flex-direction: column;z-index: 1;position: relative;background-color: white;}#sk-container-id-5 div.sk-parallel-item:first-child::after {align-self: flex-end;width: 50%;}#sk-container-id-5 div.sk-parallel-item:last-child::after {align-self: flex-start;width: 50%;}#sk-container-id-5 div.sk-parallel-item:only-child::after {width: 0;}#sk-container-id-5 div.sk-dashed-wrapped {border: 1px dashed gray;margin: 0 0.4em 0.5em 0.4em;box-sizing: border-box;padding-bottom: 0.4em;background-color: white;}#sk-container-id-5 div.sk-label label {font-family: monospace;font-weight: bold;display: inline-block;line-height: 1.2em;}#sk-container-id-5 div.sk-label-container {text-align: center;}#sk-container-id-5 div.sk-container {/* jupyter's `normalize.less` sets `[hidden] { display: none; }` but bootstrap.min.css set `[hidden] { display: none !important; }` so we also need the `!important` here to be able to override the default hidden behavior on the sphinx rendered scikit-learn.org. See: https://github.com/scikit-learn/scikit-learn/issues/21755 */display: inline-block !important;position: relative;}#sk-container-id-5 div.sk-text-repr-fallback {display: none;}</style><div id=\"sk-container-id-5\" class=\"sk-top-container\"><div class=\"sk-text-repr-fallback\"><pre>KNeighborsRegressor(n_neighbors=4)</pre><b>In a Jupyter environment, please rerun this cell to show the HTML representation or trust the notebook. <br />On GitHub, the HTML representation is unable to render, please try loading this page with nbviewer.org.</b></div><div class=\"sk-container\" hidden><div class=\"sk-item\"><div class=\"sk-estimator sk-toggleable\"><input class=\"sk-toggleable__control sk-hidden--visually\" id=\"sk-estimator-id-5\" type=\"checkbox\" checked><label for=\"sk-estimator-id-5\" class=\"sk-toggleable__label sk-toggleable__label-arrow\">KNeighborsRegressor</label><div class=\"sk-toggleable__content\"><pre>KNeighborsRegressor(n_neighbors=4)</pre></div></div></div></div></div>"
      ],
      "text/plain": [
       "KNeighborsRegressor(n_neighbors=4)"
      ]
     },
     "execution_count": 220,
     "metadata": {},
     "output_type": "execute_result"
    }
   ],
   "source": [
    "knn2 = KNeighborsRegressor(n_neighbors = 4)\n",
    "knn2.fit(x_train, y_train)"
   ]
  },
  {
   "cell_type": "code",
   "execution_count": 222,
   "id": "8be9ce66-4b36-44ce-a96d-de1318e1e78a",
   "metadata": {},
   "outputs": [
    {
     "data": {
      "text/plain": [
       "16.33220489137814"
      ]
     },
     "execution_count": 222,
     "metadata": {},
     "output_type": "execute_result"
    }
   ],
   "source": [
    "y_test_pred2 = knn2.predict(x_test)\n",
    "mean_squared_error(y_test_pred2, y_test)"
   ]
  },
  {
   "cell_type": "code",
   "execution_count": 224,
   "id": "ad958198-6c62-4d32-ae0c-6467e6f1322d",
   "metadata": {},
   "outputs": [
    {
     "data": {
      "text/plain": [
       "13.352157602020323"
      ]
     },
     "execution_count": 224,
     "metadata": {},
     "output_type": "execute_result"
    }
   ],
   "source": [
    "y_train_pred2 = knn2.predict(x_train)\n",
    "mean_squared_error(y_train_pred2, y_train)"
   ]
  },
  {
   "cell_type": "code",
   "execution_count": null,
   "id": "7f7bbd83-1395-4784-8799-e03cc0f8d65f",
   "metadata": {},
   "outputs": [],
   "source": [
    "n_neighbors = 4\n",
    "MSE test: 16.3322\n",
    "MSE train: 13.3521"
   ]
  },
  {
   "cell_type": "code",
   "execution_count": 228,
   "id": "f8528b45-dfaa-4834-bbdc-52db81b9fa41",
   "metadata": {},
   "outputs": [],
   "source": [
    "X3 = df5.drop(columns = [\"fare_amount\", \"tpep_pickup_datetime\", \"passenger_count\", \"payment_type\", \"fare_error\"])\n",
    "#X3"
   ]
  },
  {
   "cell_type": "code",
   "execution_count": null,
   "id": "a12b16e6-f478-4605-882b-ac8d92f23fd5",
   "metadata": {},
   "outputs": [],
   "source": [
    "x_train, x_test, y_train, y_test = train_test_split(X3, Y, test_size=0.2)"
   ]
  },
  {
   "cell_type": "code",
   "execution_count": 230,
   "id": "f465ecda-2710-49ba-9d91-137cd68c02b0",
   "metadata": {},
   "outputs": [
    {
     "data": {
      "text/html": [
       "<style>#sk-container-id-6 {color: black;}#sk-container-id-6 pre{padding: 0;}#sk-container-id-6 div.sk-toggleable {background-color: white;}#sk-container-id-6 label.sk-toggleable__label {cursor: pointer;display: block;width: 100%;margin-bottom: 0;padding: 0.3em;box-sizing: border-box;text-align: center;}#sk-container-id-6 label.sk-toggleable__label-arrow:before {content: \"▸\";float: left;margin-right: 0.25em;color: #696969;}#sk-container-id-6 label.sk-toggleable__label-arrow:hover:before {color: black;}#sk-container-id-6 div.sk-estimator:hover label.sk-toggleable__label-arrow:before {color: black;}#sk-container-id-6 div.sk-toggleable__content {max-height: 0;max-width: 0;overflow: hidden;text-align: left;background-color: #f0f8ff;}#sk-container-id-6 div.sk-toggleable__content pre {margin: 0.2em;color: black;border-radius: 0.25em;background-color: #f0f8ff;}#sk-container-id-6 input.sk-toggleable__control:checked~div.sk-toggleable__content {max-height: 200px;max-width: 100%;overflow: auto;}#sk-container-id-6 input.sk-toggleable__control:checked~label.sk-toggleable__label-arrow:before {content: \"▾\";}#sk-container-id-6 div.sk-estimator input.sk-toggleable__control:checked~label.sk-toggleable__label {background-color: #d4ebff;}#sk-container-id-6 div.sk-label input.sk-toggleable__control:checked~label.sk-toggleable__label {background-color: #d4ebff;}#sk-container-id-6 input.sk-hidden--visually {border: 0;clip: rect(1px 1px 1px 1px);clip: rect(1px, 1px, 1px, 1px);height: 1px;margin: -1px;overflow: hidden;padding: 0;position: absolute;width: 1px;}#sk-container-id-6 div.sk-estimator {font-family: monospace;background-color: #f0f8ff;border: 1px dotted black;border-radius: 0.25em;box-sizing: border-box;margin-bottom: 0.5em;}#sk-container-id-6 div.sk-estimator:hover {background-color: #d4ebff;}#sk-container-id-6 div.sk-parallel-item::after {content: \"\";width: 100%;border-bottom: 1px solid gray;flex-grow: 1;}#sk-container-id-6 div.sk-label:hover label.sk-toggleable__label {background-color: #d4ebff;}#sk-container-id-6 div.sk-serial::before {content: \"\";position: absolute;border-left: 1px solid gray;box-sizing: border-box;top: 0;bottom: 0;left: 50%;z-index: 0;}#sk-container-id-6 div.sk-serial {display: flex;flex-direction: column;align-items: center;background-color: white;padding-right: 0.2em;padding-left: 0.2em;position: relative;}#sk-container-id-6 div.sk-item {position: relative;z-index: 1;}#sk-container-id-6 div.sk-parallel {display: flex;align-items: stretch;justify-content: center;background-color: white;position: relative;}#sk-container-id-6 div.sk-item::before, #sk-container-id-6 div.sk-parallel-item::before {content: \"\";position: absolute;border-left: 1px solid gray;box-sizing: border-box;top: 0;bottom: 0;left: 50%;z-index: -1;}#sk-container-id-6 div.sk-parallel-item {display: flex;flex-direction: column;z-index: 1;position: relative;background-color: white;}#sk-container-id-6 div.sk-parallel-item:first-child::after {align-self: flex-end;width: 50%;}#sk-container-id-6 div.sk-parallel-item:last-child::after {align-self: flex-start;width: 50%;}#sk-container-id-6 div.sk-parallel-item:only-child::after {width: 0;}#sk-container-id-6 div.sk-dashed-wrapped {border: 1px dashed gray;margin: 0 0.4em 0.5em 0.4em;box-sizing: border-box;padding-bottom: 0.4em;background-color: white;}#sk-container-id-6 div.sk-label label {font-family: monospace;font-weight: bold;display: inline-block;line-height: 1.2em;}#sk-container-id-6 div.sk-label-container {text-align: center;}#sk-container-id-6 div.sk-container {/* jupyter's `normalize.less` sets `[hidden] { display: none; }` but bootstrap.min.css set `[hidden] { display: none !important; }` so we also need the `!important` here to be able to override the default hidden behavior on the sphinx rendered scikit-learn.org. See: https://github.com/scikit-learn/scikit-learn/issues/21755 */display: inline-block !important;position: relative;}#sk-container-id-6 div.sk-text-repr-fallback {display: none;}</style><div id=\"sk-container-id-6\" class=\"sk-top-container\"><div class=\"sk-text-repr-fallback\"><pre>KNeighborsRegressor(n_neighbors=10)</pre><b>In a Jupyter environment, please rerun this cell to show the HTML representation or trust the notebook. <br />On GitHub, the HTML representation is unable to render, please try loading this page with nbviewer.org.</b></div><div class=\"sk-container\" hidden><div class=\"sk-item\"><div class=\"sk-estimator sk-toggleable\"><input class=\"sk-toggleable__control sk-hidden--visually\" id=\"sk-estimator-id-6\" type=\"checkbox\" checked><label for=\"sk-estimator-id-6\" class=\"sk-toggleable__label sk-toggleable__label-arrow\">KNeighborsRegressor</label><div class=\"sk-toggleable__content\"><pre>KNeighborsRegressor(n_neighbors=10)</pre></div></div></div></div></div>"
      ],
      "text/plain": [
       "KNeighborsRegressor(n_neighbors=10)"
      ]
     },
     "execution_count": 230,
     "metadata": {},
     "output_type": "execute_result"
    }
   ],
   "source": [
    "knn3 = KNeighborsRegressor(n_neighbors = 10)\n",
    "knn3.fit(x_train, y_train)"
   ]
  },
  {
   "cell_type": "code",
   "execution_count": 232,
   "id": "6dc172b3-a7a8-451f-a99e-1d0a543bf4e5",
   "metadata": {},
   "outputs": [
    {
     "data": {
      "text/plain": [
       "14.134214674677528"
      ]
     },
     "execution_count": 232,
     "metadata": {},
     "output_type": "execute_result"
    }
   ],
   "source": [
    "y_test_pred3 = knn3.predict(x_test)\n",
    "mean_squared_error(y_test_pred3, y_test)"
   ]
  },
  {
   "cell_type": "code",
   "execution_count": 234,
   "id": "a627cf39-e3a5-441b-9522-8d51525cd61f",
   "metadata": {},
   "outputs": [
    {
     "data": {
      "text/plain": [
       "13.701913598730437"
      ]
     },
     "execution_count": 234,
     "metadata": {},
     "output_type": "execute_result"
    }
   ],
   "source": [
    "y_train_pred3 = knn3.predict(x_train)\n",
    "mean_squared_error(y_train_pred3, y_train)"
   ]
  },
  {
   "cell_type": "code",
   "execution_count": null,
   "id": "3088083e-c439-4667-ae2a-2ce5ba59375b",
   "metadata": {},
   "outputs": [],
   "source": [
    "n_neighbors = 10\n",
    "MSE test: 16.1342\n",
    "MSE train: 13.7019"
   ]
  },
  {
   "cell_type": "markdown",
   "id": "685da513-e303-4e6f-9787-8054b9c4f526",
   "metadata": {},
   "source": [
    " #### C. Post your code to GitHub.\r\n"
   ]
  },
  {
   "cell_type": "markdown",
   "id": "5be7f305-83d7-4171-a880-eda93334bd2d",
   "metadata": {},
   "source": [
    "#### D. ___Describe what prediction model and parameters you tried on your webpage, as well as how you evaluated the model/parameter combinations and the results of the evaluation (ex. pros and cons of this model/parameter combo).  Conclude with recommending which parameter to use with this 2nd model to get the best predictions for your data.\r\n"
   ]
  },
  {
   "cell_type": "code",
   "execution_count": null,
   "id": "55b7d0f4-be3b-42f0-ac1f-48c5b042e5ba",
   "metadata": {},
   "outputs": [],
   "source": [
    "n_neighbors = 7\n",
    "MSE test: 16.1078\n",
    "MSE train: 13.0729"
   ]
  },
  {
   "cell_type": "code",
   "execution_count": null,
   "id": "c80a9257-abf5-4619-b6ce-786735b6e009",
   "metadata": {},
   "outputs": [],
   "source": [
    "n_neighbors = 4\n",
    "MSE test: 16.3322\n",
    "MSE train: 13.3521"
   ]
  },
  {
   "cell_type": "code",
   "execution_count": null,
   "id": "1daacf2f-00b1-4ea1-8d26-76ef9a60ea78",
   "metadata": {},
   "outputs": [],
   "source": [
    "n_neighbors = 10\n",
    "MSE test: 16.1342\n",
    "MSE train: 13.7019"
   ]
  },
  {
   "cell_type": "markdown",
   "id": "fbaa8e5d-d1b3-4900-b026-09118110dd6f",
   "metadata": {},
   "source": [
    "- The K-Nearest Neighbors Regression model n_neighbors = 7 has the lowest MSE of all three models.\n",
    "- I would recommend n_neighbors = 7 to predict the fare_amount in taxi trips."
   ]
  },
  {
   "cell_type": "markdown",
   "id": "4f541469-2c5b-4f03-b456-a09eb2ad2c12",
   "metadata": {},
   "source": [
    "#### E. Compare the how well Model 1 (Step 8) and Model 2 (Step 9) preformed on your data, and make a final recommendation of which model to use to make the predictions."
   ]
  },
  {
   "cell_type": "code",
   "execution_count": null,
   "id": "a434b4bf-822c-439b-b643-c27a74116b09",
   "metadata": {},
   "outputs": [],
   "source": [
    "# Model 1 Decision Tree Regression model\n",
    "max_depth = 3\n",
    "MSE test: 15.3945\n",
    "MSE train: 18.1702"
   ]
  },
  {
   "cell_type": "code",
   "execution_count": null,
   "id": "db744a08-6060-4b6e-9db4-e5e208bf9dc0",
   "metadata": {},
   "outputs": [],
   "source": [
    "# Model 2 K-Nearest Neighbors Regression\n",
    "n_neighbors = 7\n",
    "MSE test: 16.1078\n",
    "MSE train: 13.0729"
   ]
  },
  {
   "cell_type": "markdown",
   "id": "2a44f914-2c5b-45f6-baf2-0c0369eb8ade",
   "metadata": {},
   "source": [
    " - Model 1 has a better test MSE 15.3945 than Model 2: 16.1078\n",
    " - Model 2 test MSE is higher than train MSE. This indicate some overfitting.\n",
    " - I would recommend Model 1 Decision Tree Regression model with max_depth = 3 to predict the fare_amount in our taxi trips dataset."
   ]
  }
 ],
 "metadata": {
  "kernelspec": {
   "display_name": "anaconda-panel-2023.05-py310",
   "language": "python",
   "name": "conda-env-anaconda-panel-2023.05-py310-py"
  },
  "language_info": {
   "codemirror_mode": {
    "name": "ipython",
    "version": 3
   },
   "file_extension": ".py",
   "mimetype": "text/x-python",
   "name": "python",
   "nbconvert_exporter": "python",
   "pygments_lexer": "ipython3",
   "version": "3.11.5"
  }
 },
 "nbformat": 4,
 "nbformat_minor": 5
}
